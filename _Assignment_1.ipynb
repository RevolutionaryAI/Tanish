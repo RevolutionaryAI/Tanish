{
 "cells": [
  {
   "cell_type": "markdown",
   "id": "9f81acb7",
   "metadata": {},
   "source": [
    "1. In the below elements which of them are values or an expression? eg:- values can be integer or string and expressions will be mathematical operators.\n",
    "* \n",
    "Answer=\n",
    "\n",
    "'hello'=expression\n",
    "\n",
    "-87.8=value\n",
    "\n",
    "- =expression\n",
    "\n",
    "/ =expression\n",
    "\n",
    "+=expression\n",
    "\n",
    "6 =value\n"
   ]
  },
  {
   "cell_type": "markdown",
   "id": "0dae0e6b",
   "metadata": {},
   "source": [
    "2. What is the difference between string and variable?\n",
    "\n",
    "Answer=Variable which is stored for a info.String is just a info we create\n",
    "which is inside a variable."
   ]
  },
  {
   "cell_type": "markdown",
   "id": "34644354",
   "metadata": {},
   "source": [
    "3. Describe three different data types.\n",
    "\n",
    "Ans=\n",
    "\n",
    "boolean=It contains True or False\n",
    "\n",
    "float=It is a number with a decimal point\n",
    "\n",
    "integer=It is a whole numbers\n"
   ]
  },
  {
   "cell_type": "markdown",
   "id": "82f6c539",
   "metadata": {},
   "source": [
    "4. What is an expression made up of? What do all expressions do?\n",
    "\n",
    "Answer=It is made up of variable,operators and different methods in python which \n",
    "is contructed using a language which gives a single value\n"
   ]
  },
  {
   "cell_type": "markdown",
   "id": "e1d1c5f1",
   "metadata": {},
   "source": [
    "5. This assignment statements, like spam = 10. What is the difference between an expression and a statement?\n",
    "\n",
    "ANswer=Expression is made up of values, containers, and mathematical operators (operands) and the statement is just like a command that a python interpreter executes like print."
   ]
  },
  {
   "cell_type": "code",
   "execution_count": 2,
   "id": "38bf1ce1",
   "metadata": {},
   "outputs": [
    {
     "data": {
      "text/plain": [
       "23"
      ]
     },
     "execution_count": 2,
     "metadata": {},
     "output_type": "execute_result"
    }
   ],
   "source": [
    "# 6. After running the following code, what does the variable bacon contain?\n",
    "bacon = 22\n",
    "bacon + 1\n",
    "\n"
   ]
  },
  {
   "cell_type": "code",
   "execution_count": 4,
   "id": "59552415",
   "metadata": {},
   "outputs": [
    {
     "name": "stdout",
     "output_type": "stream",
     "text": [
      "spamspamspam\n"
     ]
    },
    {
     "data": {
      "text/plain": [
       "'spamspamspam'"
      ]
     },
     "execution_count": 4,
     "metadata": {},
     "output_type": "execute_result"
    }
   ],
   "source": [
    "#7. What should the values of the following two terms be?\n",
    "print('spam' + 'spamspam')\n",
    "'spam' * 3"
   ]
  },
  {
   "cell_type": "markdown",
   "id": "af8d0575",
   "metadata": {},
   "source": [
    "8. Why is eggs a valid variable name while 100 is invalid?\n",
    "\n",
    "Answer=variables name cannot begin with numbers"
   ]
  },
  {
   "cell_type": "code",
   "execution_count": 7,
   "id": "73507502",
   "metadata": {},
   "outputs": [
    {
     "name": "stdout",
     "output_type": "stream",
     "text": [
      "2.447\n",
      "4\n",
      "77\n"
     ]
    }
   ],
   "source": [
    "#9. What three functions can be used to get the integer, floating-point number, or string version of a value?\n",
    "#float\n",
    "print(float(2.447))\n",
    "#integer\n",
    "print(int(4))\n",
    "#strings\n",
    "print(str(77))\n"
   ]
  },
  {
   "cell_type": "code",
   "execution_count": 9,
   "id": "bfb6647d",
   "metadata": {},
   "outputs": [
    {
     "data": {
      "text/plain": [
       "'I have eaten 99 burritos.'"
      ]
     },
     "execution_count": 9,
     "metadata": {},
     "output_type": "execute_result"
    }
   ],
   "source": [
    "#10. Why does this expression cause an error? How can you fix it?\n",
    "'I have eaten ' + str(99) + ' burritos.'"
   ]
  }
 ],
 "metadata": {
  "kernelspec": {
   "display_name": "Python 3 (ipykernel)",
   "language": "python",
   "name": "python3"
  },
  "language_info": {
   "codemirror_mode": {
    "name": "ipython",
    "version": 3
   },
   "file_extension": ".py",
   "mimetype": "text/x-python",
   "name": "python",
   "nbconvert_exporter": "python",
   "pygments_lexer": "ipython3",
   "version": "3.9.12"
  }
 },
 "nbformat": 4,
 "nbformat_minor": 5
}
