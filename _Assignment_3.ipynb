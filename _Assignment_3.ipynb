{
 "cells": [
  {
   "cell_type": "markdown",
   "id": "15e80835",
   "metadata": {},
   "source": [
    "1).Why are functions advantageous to have in your programs?\n",
    "\n",
    "Answer=It makes the things very easy,shorter and easy to update\n"
   ]
  },
  {
   "cell_type": "markdown",
   "id": "a1bc849f",
   "metadata": {},
   "source": [
    "2. When does the code in a function run: when it specified or when it's called?\n",
    "\n",
    "Answer=When a function is \"called\" the program \"leaves\" the current section of code and begins to execute the first line inside the function"
   ]
  },
  {
   "cell_type": "markdown",
   "id": "6fdd4fab",
   "metadata": {},
   "source": [
    "3. What statement creates a function?\n",
    "\n",
    "Answer=def \n"
   ]
  },
  {
   "cell_type": "markdown",
   "id": "1814ae13",
   "metadata": {},
   "source": [
    "4. What is the difference between a function and a function call?\n",
    "\n",
    "ANswer= A function is block of code that gives a particular function and inreturn gives a result and a function\n",
    "call is the code used to pass to control a function.\n"
   ]
  },
  {
   "cell_type": "markdown",
   "id": "f523339c",
   "metadata": {},
   "source": [
    "5. How many global scopes are there in a Python program? How many local scopes?\n",
    "\n",
    "Answer=There's only one global Python scope per program execution."
   ]
  },
  {
   "cell_type": "markdown",
   "id": "1fd35474",
   "metadata": {},
   "source": [
    "6. What happens to variables in a local scope when the function call returns?\n",
    "\n",
    "Answer=When the execution of the function returns, the local variables are destroyed.It is the written outside the function."
   ]
  },
  {
   "cell_type": "markdown",
   "id": "28f58c64",
   "metadata": {},
   "source": [
    "7. What is the concept of a return value? Is it possible to have a return value in an expression?\n",
    "\n",
    "Anwer=It calls only return value after that while writing function it completes a tasks.\n"
   ]
  },
  {
   "cell_type": "markdown",
   "id": "219f608e",
   "metadata": {},
   "source": [
    "8. If a function does not have a return statement, what is the return value of a call to that function?\n",
    "\n",
    "Answer=When function does not have return statement then write none or pass"
   ]
  },
  {
   "cell_type": "code",
   "execution_count": 3,
   "id": "29c994c1",
   "metadata": {},
   "outputs": [
    {
     "name": "stdout",
     "output_type": "stream",
     "text": [
      "40\n"
     ]
    }
   ],
   "source": [
    "#9. How do you make a function variable refer to the global variable?\n",
    "a=15\n",
    "b=25\n",
    "def add():\n",
    "    res=a+b\n",
    "    print(res)\n",
    "add()    "
   ]
  },
  {
   "cell_type": "markdown",
   "id": "093e657a",
   "metadata": {},
   "source": [
    "10. What is the data type of None?\n",
    "\n",
    "Answer=It is a null value,no value or evquivalen to 0."
   ]
  },
  {
   "cell_type": "markdown",
   "id": "a868577f",
   "metadata": {},
   "source": [
    "1. What does the sentence import areallyourpetsnamederic do?\n",
    "\n",
    "Answer=The import statement imports a module named areallyourpetsnamederic."
   ]
  },
  {
   "cell_type": "markdown",
   "id": "5bbc0071",
   "metadata": {},
   "source": [
    "12. If you had a bacon() feature in a spam module, what would you call it after importing spam?\n",
    "\n",
    "Answer=spam.bacon()\n",
    "\n",
    "13. What can you do to save a programme from crashing if it encounters an error\n",
    "\n",
    "Answer=When it encounters an error, the control is passed to the except block, skipping the code in between.\n",
    "\n",
    "14. What is the purpose of the try clause? What is the purpose of the except clause?\n",
    "\n",
    "Answer= try blocks lets you test a block of code of code for errors. Except block will handle the error part.\n",
    "\n"
   ]
  },
  {
   "cell_type": "code",
   "execution_count": null,
   "id": "78cbb236",
   "metadata": {},
   "outputs": [],
   "source": []
  }
 ],
 "metadata": {
  "kernelspec": {
   "display_name": "Python 3 (ipykernel)",
   "language": "python",
   "name": "python3"
  },
  "language_info": {
   "codemirror_mode": {
    "name": "ipython",
    "version": 3
   },
   "file_extension": ".py",
   "mimetype": "text/x-python",
   "name": "python",
   "nbconvert_exporter": "python",
   "pygments_lexer": "ipython3",
   "version": "3.9.12"
  }
 },
 "nbformat": 4,
 "nbformat_minor": 5
}
