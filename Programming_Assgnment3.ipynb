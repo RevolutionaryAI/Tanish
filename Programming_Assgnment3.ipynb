{
 "cells": [
  {
   "cell_type": "markdown",
   "id": "da4e34ee",
   "metadata": {},
   "source": [
    "1.\tWrite a Python Program to Check if a Number is Positive, Negative or Zero?"
   ]
  },
  {
   "cell_type": "code",
   "execution_count": 2,
   "id": "6de8b1d6",
   "metadata": {},
   "outputs": [
    {
     "data": {
      "text/plain": [
       "'Negative'"
      ]
     },
     "execution_count": 2,
     "metadata": {},
     "output_type": "execute_result"
    }
   ],
   "source": [
    "def number(n):\n",
    "    if n>=0:\n",
    "        return \"Positive\"\n",
    "    elif n<0:\n",
    "        return 'Negative'\n",
    "    else:\n",
    "        return 'Zero'\n",
    "number(-8)\n",
    "        "
   ]
  },
  {
   "cell_type": "markdown",
   "id": "e3659dc7",
   "metadata": {},
   "source": [
    "2.\tWrite a Python Program to Check if a Number is Odd or Even?"
   ]
  },
  {
   "cell_type": "code",
   "execution_count": 6,
   "id": "048381ea",
   "metadata": {},
   "outputs": [
    {
     "data": {
      "text/plain": [
       "'Odd'"
      ]
     },
     "execution_count": 6,
     "metadata": {},
     "output_type": "execute_result"
    }
   ],
   "source": [
    "def number(n):\n",
    "    if n%2==0:\n",
    "        return \"Even\"\n",
    "    else:\n",
    "        return \"Odd\"\n",
    "number(9)"
   ]
  },
  {
   "cell_type": "markdown",
   "id": "b8611b4b",
   "metadata": {},
   "source": [
    "3.\tWrite a Python Program to Check Leap Year?"
   ]
  },
  {
   "cell_type": "code",
   "execution_count": 10,
   "id": "71f50218",
   "metadata": {},
   "outputs": [
    {
     "name": "stdout",
     "output_type": "stream",
     "text": [
      "Not a leap year\n"
     ]
    }
   ],
   "source": [
    "def leap_year(yr):\n",
    "    if yr%4==0:\n",
    "        if  yr%100==0:\n",
    "            if yr%400==0:\n",
    "                print(\"Leap year\")\n",
    "            else:\n",
    "                print(\"Leap year\")\n",
    "        else:\n",
    "            print(\"Not a leap year\")\n",
    "    else:\n",
    "        print(\"Leap year!\")\n",
    "leap_year(2024)"
   ]
  },
  {
   "cell_type": "markdown",
   "id": "7cea1b33",
   "metadata": {},
   "source": [
    "4.\tWrite a Python Program to Check Prime Number?"
   ]
  },
  {
   "cell_type": "code",
   "execution_count": 12,
   "id": "8cfc9cce",
   "metadata": {},
   "outputs": [
    {
     "data": {
      "text/plain": [
       "'3 is not a prime number'"
      ]
     },
     "execution_count": 12,
     "metadata": {},
     "output_type": "execute_result"
    }
   ],
   "source": [
    "def check_prime(x):\n",
    "    if x%2==0:\n",
    "        return \"{} is a prime number\".format(x)\n",
    "    else:\n",
    "        return \"{} is not a prime number\".format(x)\n",
    "check_prime(3)\n",
    "    "
   ]
  },
  {
   "cell_type": "markdown",
   "id": "e1cbea91",
   "metadata": {},
   "source": [
    "5.\tWrite a Python Program to Print all Prime Numbers in an Interval of 1-10000?"
   ]
  },
  {
   "cell_type": "code",
   "execution_count": 3,
   "id": "62b17415",
   "metadata": {},
   "outputs": [
    {
     "name": "stdout",
     "output_type": "stream",
     "text": [
      "2 is a prime number\n",
      "3 is not a prime number\n",
      "4 is a prime number\n",
      "5 is not a prime number\n",
      "6 is a prime number\n",
      "7 is not a prime number\n",
      "8 is a prime number\n",
      "9 is not a prime number\n",
      "10 is a prime number\n",
      "None\n"
     ]
    }
   ],
   "source": [
    "def check_prime(a):\n",
    "    for i in range(2,a+1):\n",
    "        if i%2==0:\n",
    "            print(\"{} is a prime number\".format(i))\n",
    "        else:\n",
    "            print(\"{} is not a prime number\".format(i))\n",
    "print(check_prime(10))           \n",
    "        "
   ]
  }
 ],
 "metadata": {
  "kernelspec": {
   "display_name": "Python 3 (ipykernel)",
   "language": "python",
   "name": "python3"
  },
  "language_info": {
   "codemirror_mode": {
    "name": "ipython",
    "version": 3
   },
   "file_extension": ".py",
   "mimetype": "text/x-python",
   "name": "python",
   "nbconvert_exporter": "python",
   "pygments_lexer": "ipython3",
   "version": "3.9.12"
  }
 },
 "nbformat": 4,
 "nbformat_minor": 5
}
