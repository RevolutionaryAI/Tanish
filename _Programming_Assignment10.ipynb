{
 "cells": [
  {
   "cell_type": "markdown",
   "id": "6e9cc4d0",
   "metadata": {},
   "source": [
    "1.\tWrite a Python program to find sum of elements in list?"
   ]
  },
  {
   "cell_type": "code",
   "execution_count": 30,
   "id": "639f76ca",
   "metadata": {},
   "outputs": [
    {
     "name": "stdout",
     "output_type": "stream",
     "text": [
      "30\n"
     ]
    }
   ],
   "source": [
    "#Apprach-1\n",
    "def summing(x):\n",
    "    s=0\n",
    "    for i in range(len(x)):\n",
    "        s+=x[i]\n",
    "    return s\n",
    "summing([4,5,6,7,8])\n",
    "#Approach-2\n",
    "def summing(x):\n",
    "    s,i=0,0\n",
    "    while i<len(x):\n",
    "        s+=x[i]\n",
    "        i+=1\n",
    "    return s\n",
    "print(summing([4,5,6,7,8]))"
   ]
  },
  {
   "cell_type": "markdown",
   "id": "6aaba981",
   "metadata": {},
   "source": [
    "2.\tWrite a Python program to  Multiply all numbers in the list?"
   ]
  },
  {
   "cell_type": "code",
   "execution_count": 13,
   "id": "1597f410",
   "metadata": {},
   "outputs": [
    {
     "name": "stdout",
     "output_type": "stream",
     "text": [
      "6720\n"
     ]
    }
   ],
   "source": [
    "#Approach\n",
    "def multi(x):\n",
    "    s=1\n",
    "    for i in range(len(x)):\n",
    "        s*=x[i]\n",
    "    return s\n",
    "multi([4,5,6,7,8])\n",
    "#Approach-2\n",
    "def multi(x):\n",
    "    i=0\n",
    "    s=1\n",
    "    while i<len(x):\n",
    "        s*=x[i]\n",
    "        i+=1\n",
    "    print(s)\n",
    "multi([4,5,6,7,8])\n"
   ]
  },
  {
   "cell_type": "markdown",
   "id": "cde572dd",
   "metadata": {},
   "source": [
    "3.\tWrite a Python program to find smallest number in a list?"
   ]
  },
  {
   "cell_type": "code",
   "execution_count": 15,
   "id": "54e8819d",
   "metadata": {},
   "outputs": [
    {
     "name": "stdout",
     "output_type": "stream",
     "text": [
      "2\n"
     ]
    }
   ],
   "source": [
    "my=[2,4,5,6,7]\n",
    "ans=my[0]\n",
    "i=0\n",
    "while i<len(my):\n",
    "        if my[i]<ans:\n",
    "                ans=my[i]\n",
    "        i+=1\n",
    "print(ans)\n"
   ]
  },
  {
   "cell_type": "markdown",
   "id": "4aaeb1cf",
   "metadata": {},
   "source": [
    "4.\tWrite a Python program to find largest number in a list?"
   ]
  },
  {
   "cell_type": "code",
   "execution_count": 18,
   "id": "42f105a7",
   "metadata": {},
   "outputs": [
    {
     "name": "stdout",
     "output_type": "stream",
     "text": [
      "7\n"
     ]
    }
   ],
   "source": [
    "ans=my[0]\n",
    "i=0\n",
    "while i<len(my):\n",
    "        if my[i]>ans:\n",
    "                ans=my[i]\n",
    "        i+=1\n",
    "print(ans)\n"
   ]
  },
  {
   "cell_type": "markdown",
   "id": "d1aba30a",
   "metadata": {},
   "source": [
    "5.\tWrite a Python program to find second largest number in a list?"
   ]
  },
  {
   "cell_type": "code",
   "execution_count": 31,
   "id": "156ed51a",
   "metadata": {},
   "outputs": [
    {
     "data": {
      "text/plain": [
       "7"
      ]
     },
     "execution_count": 31,
     "metadata": {},
     "output_type": "execute_result"
    }
   ],
   "source": [
    "def second_largest(x):\n",
    "    return sorted(x,reverse=True)[1]\n",
    "second_largest([4,5,6,7,8])   "
   ]
  },
  {
   "cell_type": "markdown",
   "id": "a3bc514c",
   "metadata": {},
   "source": [
    "6.\tWrite a Python program to find N largest elements from a list?"
   ]
  },
  {
   "cell_type": "code",
   "execution_count": 34,
   "id": "8bc25f39",
   "metadata": {},
   "outputs": [
    {
     "data": {
      "text/plain": [
       "[4, 6]"
      ]
     },
     "execution_count": 34,
     "metadata": {},
     "output_type": "execute_result"
    }
   ],
   "source": [
    "def nth_largest(x,n):\n",
    "    l=[]\n",
    "    for i in range(n):\n",
    "        s=0\n",
    "        for j in range(len(x)):\n",
    "            if x[i]>s:\n",
    "                s=x[i]\n",
    "        x.remove(s)\n",
    "        l.append(s)\n",
    "    return l\n",
    "nth_largest([4,5,6,7,8,67,78],2)\n",
    "\n"
   ]
  },
  {
   "cell_type": "markdown",
   "id": "9b9c2879",
   "metadata": {},
   "source": [
    "7.\tWrite a Python program to print even numbers in a list?             "
   ]
  },
  {
   "cell_type": "code",
   "execution_count": 48,
   "id": "396a91b5",
   "metadata": {},
   "outputs": [
    {
     "data": {
      "text/plain": [
       "[2, 4, 6, 8, 10]"
      ]
     },
     "execution_count": 48,
     "metadata": {},
     "output_type": "execute_result"
    }
   ],
   "source": [
    "def even(x):\n",
    "    l=[]\n",
    "    for i in x:\n",
    "        if i%2==0:\n",
    "            l.append(i)\n",
    "    return l\n",
    "            \n",
    "even([2,3,4,5,6,7,8,9,10])"
   ]
  },
  {
   "cell_type": "markdown",
   "id": "47442e1f",
   "metadata": {},
   "source": [
    "8.\tWrite a Python program to print odd numbers in a List?"
   ]
  },
  {
   "cell_type": "code",
   "execution_count": 56,
   "id": "50955c22",
   "metadata": {},
   "outputs": [
    {
     "data": {
      "text/plain": [
       "[3, 5, 7, 9]"
      ]
     },
     "execution_count": 56,
     "metadata": {},
     "output_type": "execute_result"
    }
   ],
   "source": [
    "def odd(x):\n",
    "    l=[]\n",
    "    for i in x:\n",
    "        if i%2==1:\n",
    "            l.append(i)\n",
    "    return l\n",
    "            \n",
    "odd([2,3,4,5,6,7,8,9,10])"
   ]
  },
  {
   "cell_type": "markdown",
   "id": "1e8cb59b",
   "metadata": {},
   "source": [
    "9.\tWrite a Python program to Remove empty List from List?"
   ]
  },
  {
   "cell_type": "code",
   "execution_count": 64,
   "id": "f9a13559",
   "metadata": {},
   "outputs": [
    {
     "data": {
      "text/plain": [
       "[5, 6, 3, 9]"
      ]
     },
     "execution_count": 64,
     "metadata": {},
     "output_type": "execute_result"
    }
   ],
   "source": [
    "def empty_list(x):\n",
    "    l=[]\n",
    "    for i in x:\n",
    "        if i!= []:\n",
    "            l.append(i)\n",
    "    return l\n",
    "empty_list([5, 6, [], 3, [], [], 9])\n",
    "            "
   ]
  },
  {
   "cell_type": "markdown",
   "id": "c39908ee",
   "metadata": {},
   "source": [
    "10.\tWrite a Python program to Cloning or Copying a list?"
   ]
  },
  {
   "cell_type": "code",
   "execution_count": 66,
   "id": "2759986c",
   "metadata": {},
   "outputs": [
    {
     "data": {
      "text/plain": [
       "[4, 5, 6, 7, 8]"
      ]
     },
     "execution_count": 66,
     "metadata": {},
     "output_type": "execute_result"
    }
   ],
   "source": [
    "def copying(x):\n",
    "    l=[]\n",
    "    for i in x:\n",
    "        x.copy()\n",
    "        l.append(i)\n",
    "    return l\n",
    "copying([4,5,6,7,8])\n"
   ]
  },
  {
   "cell_type": "markdown",
   "id": "34b2eb56",
   "metadata": {},
   "source": [
    "11.\tWrite a Python program to Count occurrences of an element in a list?"
   ]
  },
  {
   "cell_type": "code",
   "execution_count": 73,
   "id": "9a8dac3a",
   "metadata": {},
   "outputs": [
    {
     "data": {
      "text/plain": [
       "3"
      ]
     },
     "execution_count": 73,
     "metadata": {},
     "output_type": "execute_result"
    }
   ],
   "source": [
    "def occurences(x,n):\n",
    "    return x.count(n)\n",
    "occurences([15, 6, 7, 10, 12, 20, 10, 28, 10],10)"
   ]
  }
 ],
 "metadata": {
  "kernelspec": {
   "display_name": "Python 3 (ipykernel)",
   "language": "python",
   "name": "python3"
  },
  "language_info": {
   "codemirror_mode": {
    "name": "ipython",
    "version": 3
   },
   "file_extension": ".py",
   "mimetype": "text/x-python",
   "name": "python",
   "nbconvert_exporter": "python",
   "pygments_lexer": "ipython3",
   "version": "3.9.12"
  }
 },
 "nbformat": 4,
 "nbformat_minor": 5
}
