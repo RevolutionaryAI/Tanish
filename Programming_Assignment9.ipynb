{
 "cells": [
  {
   "cell_type": "markdown",
   "id": "299994c5",
   "metadata": {},
   "source": [
    "1.\tWrite a Python program to check if the given number is a Disarium Number?"
   ]
  },
  {
   "cell_type": "code",
   "execution_count": 2,
   "id": "fb63ca4b",
   "metadata": {},
   "outputs": [
    {
     "name": "stdout",
     "output_type": "stream",
     "text": [
      "ENter a number788\n",
      "No\n"
     ]
    }
   ],
   "source": [
    "n=input(\"ENter a number\")\n",
    "ln=len(n)\n",
    "n=int(n)\n",
    "res=0\n",
    "i=ln\n",
    "num=n\n",
    "while n!=0:\n",
    "    digit=n%10\n",
    "    res=res+pow(digit,i)\n",
    "    n=int(n/10)\n",
    "    i=i-1\n",
    "if res==num:\n",
    "    print(\"Yes\")\n",
    "else:\n",
    "    print(\"No\")\n"
   ]
  },
  {
   "cell_type": "markdown",
   "id": "d245969b",
   "metadata": {},
   "source": [
    "2.\tWrite a Python program to print all disarium numbers between 1 to 100?"
   ]
  },
  {
   "cell_type": "code",
   "execution_count": 4,
   "id": "8926d484",
   "metadata": {},
   "outputs": [
    {
     "name": "stdout",
     "output_type": "stream",
     "text": [
      "1 2 3 4 5 6 7 8 9 89 "
     ]
    }
   ],
   "source": [
    "def num(a,b):\n",
    "    for i in range(a,b+1):\n",
    "        temp=i\n",
    "        s=0\n",
    "        while temp>0:\n",
    "            s+=1\n",
    "            temp//=10\n",
    "        temp=i\n",
    "        sum=0\n",
    "        while temp>0:\n",
    "            sum=int(sum+pow(temp%10,s))\n",
    "            temp//=10\n",
    "            s-=1\n",
    "        if sum==i:\n",
    "            print(i,end=\" \")\n",
    "num(1,100)\n"
   ]
  },
  {
   "cell_type": "markdown",
   "id": "1f2bba89",
   "metadata": {},
   "source": [
    "3.\tWrite a Python program to check if the given number is Happy Number?"
   ]
  },
  {
   "cell_type": "code",
   "execution_count": 5,
   "id": "f48f7e83",
   "metadata": {},
   "outputs": [
    {
     "name": "stdout",
     "output_type": "stream",
     "text": [
      "45\n",
      "No\n"
     ]
    }
   ],
   "source": [
    "def happyno(n):\n",
    "    num=n\n",
    "    res=0\n",
    "    while n!=0:\n",
    "        rem=n%10\n",
    "        res=res+(rem*rem)\n",
    "        n//=10\n",
    "    return res\n",
    "n=int(input())\n",
    "num=n\n",
    "while num!=1 and num!=4:\n",
    "    num=happyno(num)\n",
    "\n",
    "if num==1:\n",
    "    print(\"Yes\")\n",
    "elif num==4:\n",
    "    print(\"No\")\n"
   ]
  },
  {
   "cell_type": "markdown",
   "id": "88e79573",
   "metadata": {},
   "source": [
    "4.\tWrite a Python program to print all happy numbers between 1 and 100?"
   ]
  },
  {
   "cell_type": "code",
   "execution_count": 9,
   "id": "4b87653c",
   "metadata": {},
   "outputs": [
    {
     "name": "stdout",
     "output_type": "stream",
     "text": [
      "7 10 13 19 23 28 31 32 44 49 68 70 79 82 86 91 94 97 100 "
     ]
    }
   ],
   "source": [
    "def Happyno(n):\n",
    "    s=0\n",
    "    while n>0:\n",
    "        rem=n%10\n",
    "        s=s+(rem*rem)\n",
    "        n//=10\n",
    "    return s\n",
    "\n",
    "for i in range(1,101):\n",
    "    result=i\n",
    "\n",
    "    while result!=1 and result!=4:\n",
    "        result=Happyno(result)\n",
    "        if result==1:\n",
    "            print(i,end=\" \")\n",
    "\n"
   ]
  },
  {
   "cell_type": "markdown",
   "id": "365eb321",
   "metadata": {},
   "source": [
    "5.\tWrite a Python program to determine whether the given number is a Harshad Number?"
   ]
  },
  {
   "cell_type": "code",
   "execution_count": 10,
   "id": "0d13bcdd",
   "metadata": {},
   "outputs": [
    {
     "name": "stdout",
     "output_type": "stream",
     "text": [
      "Yes\n"
     ]
    }
   ],
   "source": [
    "def num(n):\n",
    "    r=n\n",
    "    rem=0\n",
    "    sum=0\n",
    "    while r>0:\n",
    "        rem=r%10\n",
    "        sum+=rem\n",
    "        r//=10\n",
    "\n",
    "    if (n%sum==0) and (n%sum==0):\n",
    "        print(\"Yes\")\n",
    "    else:\n",
    "        print(\"No\")\n",
    "\n",
    "num(156)\n"
   ]
  },
  {
   "cell_type": "markdown",
   "id": "8004dd1a",
   "metadata": {},
   "source": [
    "\n",
    "6.\tWrite a Python program to print all pronic numbers between 1 and 100?\n"
   ]
  },
  {
   "cell_type": "code",
   "execution_count": 11,
   "id": "f0fd2d69",
   "metadata": {},
   "outputs": [
    {
     "name": "stdout",
     "output_type": "stream",
     "text": [
      "45\n",
      "no\n"
     ]
    }
   ],
   "source": [
    "n=int(input())\n",
    "f=0\n",
    "for i in range(n):\n",
    "        if i*(i+1)==n:\n",
    "                f=1\n",
    "                break\n",
    "if f==1:\n",
    "        print(\"Yes\")\n",
    "else:\n",
    "        print(\"no\")\n"
   ]
  }
 ],
 "metadata": {
  "kernelspec": {
   "display_name": "Python 3 (ipykernel)",
   "language": "python",
   "name": "python3"
  },
  "language_info": {
   "codemirror_mode": {
    "name": "ipython",
    "version": 3
   },
   "file_extension": ".py",
   "mimetype": "text/x-python",
   "name": "python",
   "nbconvert_exporter": "python",
   "pygments_lexer": "ipython3",
   "version": "3.9.12"
  }
 },
 "nbformat": 4,
 "nbformat_minor": 5
}
