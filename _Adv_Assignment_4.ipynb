{
 "cells": [
  {
   "cell_type": "markdown",
   "id": "5ef1d7b5",
   "metadata": {},
   "source": [
    "1. In mathematics, the Fibonacci numbers, commonly denoted Fn, form a sequence, called the Fibonacci sequence, such that each number is the sum of the two preceding ones, starting from 0 and 1:\n",
    "\n",
    "The beginning of the sequence is this:\n",
    "\n",
    "0, 1, 1, 2, 3, 5, 8, 13, 21, 34, 55, 89, 144, ...\n",
    "\n",
    "The function fastFib(num) returns the fibonacci number Fn, of the given num as an argument.\n",
    "\n",
    "Examples\n",
    "\n",
    "fib_fast(5) ➞ 5\n",
    "\n",
    "fib_fast(10) ➞ 55\n",
    "\n",
    "fib_fast(20) ➞ 6765\n",
    "\n",
    "fib_fast(50) ➞ 12586269025\n"
   ]
  },
  {
   "cell_type": "code",
   "execution_count": 146,
   "id": "5f4e8739",
   "metadata": {},
   "outputs": [
    {
     "name": "stdout",
     "output_type": "stream",
     "text": [
      "5\n",
      "55\n",
      "6765\n",
      "12586269025\n"
     ]
    }
   ],
   "source": [
    "def fib_fast(x):\n",
    "    a,b=0,1\n",
    "    for i in range(x):\n",
    "        a,b=b,a+b\n",
    "    print(a)\n",
    "fib_fast(5)\n",
    "fib_fast(10)\n",
    "fib_fast(20)\n",
    "fib_fast(50)"
   ]
  },
  {
   "cell_type": "markdown",
   "id": "c68ca2a0",
   "metadata": {},
   "source": [
    "2. Create a function that takes a strings characters as ASCII and returns each characters hexadecimal value as a string.\n",
    "\n",
    "Examples\n",
    "\n",
    "convert_to_hex(\"hello world\") ➞ \"68 65 6c 6c 6f 20 77 6f 72 6c 64\"\n",
    "\n",
    "convert_to_hex(\"Big Boi\") ➞ \"42 69 67 20 42 6f 69\"\n",
    "\n",
    "convert_to_hex(\"Marty Poppinson\") ➞ \"4d 61 72 74 79 20 50 6f 70 70 69 6e 73 6f 6e\"\n"
   ]
  },
  {
   "cell_type": "code",
   "execution_count": 40,
   "id": "dfc2d715",
   "metadata": {},
   "outputs": [
    {
     "name": "stdout",
     "output_type": "stream",
     "text": [
      "68656c6c6f20776f726c64\n",
      "42696720426f69\n",
      "4d6172747920506f7070696e736f6e\n"
     ]
    }
   ],
   "source": [
    "def convert_to_hex(x):\n",
    "    l=[]\n",
    "    for i in x:\n",
    "        l.append(hex(ord(i))[2:])\n",
    "    print(\"\".join(l))\n",
    "convert_to_hex(\"hello world\") \n",
    "convert_to_hex(\"Big Boi\")\n",
    "convert_to_hex(\"Marty Poppinson\")"
   ]
  },
  {
   "cell_type": "markdown",
   "id": "5f5178db",
   "metadata": {},
   "source": [
    "\n",
    "3.Someone has attempted to censor my strings by replacing every vowel with a *, l*k* th*s. Luckily, I've been able to find the vowels that were removed.\n",
    "Given a censored string and a string of the censored vowels, return the original uncensored string.\n",
    "\n",
    "Examples:\n",
    "\n",
    "uncensor(\"Wh*r* d*d my v*w*ls g*?\", \"eeioeo\") ➞ \"Where did my vowels go?\"\n",
    "\n",
    "uncensor(\"abcd\", \"\") ➞ \"abcd\"\n",
    "\n",
    "uncensor(\"*PP*RC*S*\", \"UEAE\") ➞ \"UPPERCASE\""
   ]
  },
  {
   "cell_type": "code",
   "execution_count": 118,
   "id": "b1c18f56",
   "metadata": {},
   "outputs": [
    {
     "name": "stdout",
     "output_type": "stream",
     "text": [
      "Where did my vowels go?\n"
     ]
    }
   ],
   "source": [
    "def uncensor(x,y):\n",
    "    i=0\n",
    "    l=[]\n",
    "    for j in x:\n",
    "        if j==\"*\":\n",
    "            l.append(y[i])\n",
    "            i+=1\n",
    "            \n",
    "        else:\n",
    "            l.append(j)\n",
    "    print(\"\".join(l))\n",
    "uncensor(\"Wh*r* d*d my v*w*ls g*?\", \"eeioeo\") "
   ]
  },
  {
   "cell_type": "markdown",
   "id": "0cf7bb65",
   "metadata": {},
   "source": [
    "4.Write a function that takes an IP address and returns the domain name using PTR DNS records.\n",
    "Examples:\n",
    "\n",
    "get_domain(\"8.8.8.8\") ➞ \"dns.google\"\n",
    "\n",
    "get_domain(\"8.8.4.4\") ➞ \"dns.google\""
   ]
  },
  {
   "cell_type": "code",
   "execution_count": 125,
   "id": "0e7cb001",
   "metadata": {},
   "outputs": [
    {
     "name": "stdout",
     "output_type": "stream",
     "text": [
      "dns.google\n",
      "dns.google\n"
     ]
    }
   ],
   "source": [
    "import socket \n",
    "def get_domain(x):\n",
    "    print(socket.gethostbyaddr(x)[0])\n",
    "get_domain(\"8.8.8.8\")\n",
    "get_domain(\"8.8.4.4\")"
   ]
  },
  {
   "cell_type": "markdown",
   "id": "4b020a26",
   "metadata": {},
   "source": [
    "5.Create a function that takes an integer n and returns the factorial of factorials. See below examples for a better understanding:\n",
    "Examples:\n",
    "\n",
    "fact_of_fact(4) ➞ 288\n",
    "\n",
    "#4! * 3! * 2! * 1! = 288\n",
    "\n",
    "fact_of_fact(5) ➞ 34560\n",
    "\n",
    "fact_of_fact(6) ➞ 24883200"
   ]
  },
  {
   "cell_type": "code",
   "execution_count": 145,
   "id": "ffe3e2d7",
   "metadata": {},
   "outputs": [
    {
     "name": "stdout",
     "output_type": "stream",
     "text": [
      "288\n",
      "34560\n",
      "24883200\n"
     ]
    }
   ],
   "source": [
    "def factorial(x):\n",
    "    if x==0:\n",
    "        return 1\n",
    "    else:\n",
    "        return x*factorial(x-1)\n",
    "def fact_of_fact(y):\n",
    "    s=1\n",
    "    for i in range(1,y+1):\n",
    "        s*=factorial(i)\n",
    "    print(s)\n",
    "fact_of_fact(4)\n",
    "fact_of_fact(5)\n",
    "fact_of_fact(6)\n"
   ]
  }
 ],
 "metadata": {
  "kernelspec": {
   "display_name": "Python 3 (ipykernel)",
   "language": "python",
   "name": "python3"
  },
  "language_info": {
   "codemirror_mode": {
    "name": "ipython",
    "version": 3
   },
   "file_extension": ".py",
   "mimetype": "text/x-python",
   "name": "python",
   "nbconvert_exporter": "python",
   "pygments_lexer": "ipython3",
   "version": "3.9.12"
  }
 },
 "nbformat": 4,
 "nbformat_minor": 5
}
