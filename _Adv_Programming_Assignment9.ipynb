{
 "cells": [
  {
   "cell_type": "markdown",
   "id": "f2fc9d8f",
   "metadata": {},
   "source": [
    "1. YouTube offers different playback speed options for users. This allows users to increase or decrease the speed of the video content. Given the actual duration and playback speed of the video, calculate the playback duration of the video.\n",
    "\n",
    "Examples\n",
    "\n",
    "playback_duration(\"00:30:00\", 2) ➞ \"00:15:00\"\n",
    "\n",
    "playback_duration(\"01:20:00\", 1.5) ➞ \"00:53:20\"\n",
    "\n",
    "playback_duration(\"51:20:09\", 0.5) ➞ \"102:40:18\"\n"
   ]
  },
  {
   "cell_type": "code",
   "execution_count": 21,
   "id": "9407ed9e",
   "metadata": {
    "scrolled": true
   },
   "outputs": [
    {
     "name": "stdout",
     "output_type": "stream",
     "text": [
      "0:15:00\n",
      "0:53:20\n",
      "4 days, 6:40:18\n"
     ]
    }
   ],
   "source": [
    "import datetime\n",
    "def playback_duration(string,playback):\n",
    "    x=string.split(\":\")\n",
    "    total_sec=((int(x[0])*60*60)+(int(x[1])*60)+int(x[2]))/playback\n",
    "    conversion=datetime.timedelta(seconds=total_sec)\n",
    "    convert_time=str(conversion)\n",
    "    print(convert_time)\n",
    "playback_duration(\"00:30:00\", 2) \n",
    "playback_duration(\"01:20:00\", 1.5) \n",
    "playback_duration(\"51:20:09\", 0.5) "
   ]
  },
  {
   "cell_type": "markdown",
   "id": "8bf0bc07",
   "metadata": {},
   "source": [
    "2. We needs your help to construct a building which will be a pile of n cubes. The cube at the bottom will have a volume of n^3, the cube above will have volume of (n-1)^3 and so on until the top which will have a volume of 1^3.\n",
    "\n",
    "Given the total volume m of the building, can you find the number of cubes n required for the building?\n",
    "\n",
    "In other words, you have to return an integer n such that:\n",
    "\n",
    "n^3 + (n-1)^3 + ... + 1^3 == m\n",
    "\n",
    "Return None if there is no such number.\n",
    "\n",
    "Examples\n",
    "\n",
    "pile_of_cubes(1071225) ➞ 45\n",
    "\n",
    "pile_of_cubes(4183059834009) ➞ 2022\n",
    "\n",
    "pile_of_cubes(16) ➞ None\n"
   ]
  },
  {
   "cell_type": "code",
   "execution_count": 19,
   "id": "25c9f2bd",
   "metadata": {},
   "outputs": [
    {
     "name": "stdout",
     "output_type": "stream",
     "text": [
      "45\n",
      "2022\n",
      "2\n"
     ]
    }
   ],
   "source": [
    "from math import sqrt\n",
    "def pile_of_cubes(x):\n",
    "    a=int(1/2*(sqrt(8*sqrt(x) + 1) - 1))\n",
    "    print(a)\n",
    "pile_of_cubes(1071225)\n",
    "pile_of_cubes(4183059834009)\n",
    "pile_of_cubes(16) "
   ]
  },
  {
   "cell_type": "markdown",
   "id": "423e3541",
   "metadata": {},
   "source": [
    "3. A fulcrum of a list is an integer such that all elements to the left of it and all elements to the right of it sum to the same value. Write a function that finds the fulcrum of a list.\n",
    "\n",
    "To illustrate:\n",
    "\n",
    "find_fulcrum([3, 1, 5, 2, 4, 6, -1]) ➞ 2\n",
    "// Since [3, 1, 5] and [4, 6, -1] both sum to 9\n",
    "\n",
    "Examples\n",
    "\n",
    "find_fulcrum([1, 2, 4, 9, 10, -10, -9, 3]) ➞ 4\n",
    "\n",
    "find_fulcrum([9, 1, 9]) ➞ 1\n",
    "\n",
    "find_fulcrum([7, -1, 0, -1, 1, 1, 2, 3]) ➞ 0\n",
    "\n",
    "find_fulcrum([8, 8, 8, 8]) ➞ -1\n"
   ]
  },
  {
   "cell_type": "code",
   "execution_count": 42,
   "id": "b365af97",
   "metadata": {
    "scrolled": false
   },
   "outputs": [
    {
     "name": "stdout",
     "output_type": "stream",
     "text": [
      "4\n",
      "1\n",
      "0\n",
      "-1\n"
     ]
    }
   ],
   "source": [
    "def find_fulcrum(x):\n",
    "    c=-1\n",
    "    for i in x:\n",
    "        res=x.index(i)\n",
    "        if sum(x[:res])==sum(x[res+1:]):\n",
    "            c=i\n",
    "            break\n",
    "    print(c)\n",
    "\n",
    "find_fulcrum([1, 2, 4, 9, 10, -10, -9, 3])\n",
    "find_fulcrum([9, 1, 9]) \n",
    "find_fulcrum([7, -1, 0, -1, 1, 1, 2, 3]) \n",
    "find_fulcrum([8, 8, 8, 8])"
   ]
  },
  {
   "cell_type": "markdown",
   "id": "2917e41e",
   "metadata": {},
   "source": [
    "4. Given a list of integers representing the color of each sock, determine how many pairs of socks with matching colors there are. For example, there are 7 socks with colors [1, 2, 1, 2, 1, 3, 2]. There is one pair of color 1 and one of color 2. There are three odd socks left, one of each color. The number of pairs is 2.\n",
    "Create a function that returns an integer representing the number of matching pairs of socks that are available.\n",
    "Examples:\n",
    "\n",
    "sock_merchant([10, 20, 20, 10, 10, 30, 50, 10, 20]) ➞ 3\n",
    "\n",
    "sock_merchant([50, 20, 30, 90, 30, 20, 50, 20, 90]) ➞ 4\n",
    "\n",
    "sock_merchant([]) ➞ 0"
   ]
  },
  {
   "cell_type": "code",
   "execution_count": 306,
   "id": "31ed0bdd",
   "metadata": {},
   "outputs": [
    {
     "name": "stdout",
     "output_type": "stream",
     "text": [
      "3\n",
      "4\n",
      "0\n"
     ]
    }
   ],
   "source": [
    "def sock_merchant(x):\n",
    "    s=set(x)\n",
    "    s1=0\n",
    "    for i in s:\n",
    "        s1+=x.count(i)//2\n",
    "    print(s1)\n",
    "sock_merchant([10, 20, 20, 10, 10, 30, 50, 10, 20])\n",
    "sock_merchant([50, 20, 30, 90, 30, 20, 50, 20, 90])\n",
    "sock_merchant([]) "
   ]
  },
  {
   "cell_type": "markdown",
   "id": "4dbccb21",
   "metadata": {},
   "source": [
    "5. Create a function that takes a string containing integers as well as other characters and return the sum of the negative integers only.\n",
    "\n",
    "Examples\n",
    "\n",
    "negative_sum(\"-12 13%14&-11\") ➞ -23\n",
    "#-12 + -11 = -23\n",
    "\n",
    "negative_sum(\"22 13%14&-11-22 13 12\") ➞ -33\n",
    "#-11 + -22 = -33\n"
   ]
  },
  {
   "cell_type": "code",
   "execution_count": 408,
   "id": "5e948704",
   "metadata": {
    "scrolled": true
   },
   "outputs": [
    {
     "name": "stdout",
     "output_type": "stream",
     "text": [
      "-33\n",
      "-23\n"
     ]
    }
   ],
   "source": [
    "def negative_sum(x):\n",
    "    b=\"%&\"\n",
    "    lst=x.split(\" \")\n",
    "    l=[]\n",
    "    for i in lst:\n",
    "        if i not in b :\n",
    "                l.append(int(i))\n",
    "    xx=l\n",
    "    s=0\n",
    "    for i in xx:\n",
    "        if i<0:\n",
    "            s+=i\n",
    "    print(s)\n",
    "negative_sum(\"22 13 % 14 & -11 -22 13 12\")\n",
    "            \n",
    "negative_sum(\"-12 13 % 14 & -11\")    "
   ]
  }
 ],
 "metadata": {
  "kernelspec": {
   "display_name": "Python 3 (ipykernel)",
   "language": "python",
   "name": "python3"
  },
  "language_info": {
   "codemirror_mode": {
    "name": "ipython",
    "version": 3
   },
   "file_extension": ".py",
   "mimetype": "text/x-python",
   "name": "python",
   "nbconvert_exporter": "python",
   "pygments_lexer": "ipython3",
   "version": "3.9.12"
  }
 },
 "nbformat": 4,
 "nbformat_minor": 5
}
