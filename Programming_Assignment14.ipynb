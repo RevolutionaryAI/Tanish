{
 "cells": [
  {
   "cell_type": "markdown",
   "id": "906ab124",
   "metadata": {},
   "source": [
    "Question 1:\n",
    "\n",
    "Define a class with a generator which can iterate the numbers, which are divisible by 7, between a given range 0 and n.\n"
   ]
  },
  {
   "cell_type": "code",
   "execution_count": 11,
   "id": "e63556bf",
   "metadata": {},
   "outputs": [
    {
     "name": "stdout",
     "output_type": "stream",
     "text": [
      "7\n",
      "14\n",
      "21\n",
      "28\n",
      "35\n",
      "42\n",
      "49\n",
      "56\n",
      "63\n",
      "70\n",
      "77\n",
      "84\n",
      "91\n",
      "98\n"
     ]
    }
   ],
   "source": [
    "def generator(n):\n",
    "    i=0\n",
    "    while i<n:\n",
    "        i+=1\n",
    "        j=i\n",
    "        if j%7==0:\n",
    "            yield j\n",
    "for i in generator(100):\n",
    "    print(i)"
   ]
  },
  {
   "cell_type": "markdown",
   "id": "d25b39f7",
   "metadata": {},
   "source": [
    "Question 2:\n",
    "Write a program to compute the frequency of the words from the input. The output should output after sorting the key alphanumerically. \n",
    "\n",
    "Suppose the following input is supplied to the program:\n",
    "\n",
    "New to Python or choosing between Python 2 and Python 3? Read Python 2 or Python 3.\n",
    "\n",
    "Then, the output should be:\n",
    "\n",
    "2:2\n",
    "\n",
    "3.:1\n",
    "\n",
    "3?:1\n",
    "\n",
    "New:1\n",
    "\n",
    "Python:5\n",
    "\n",
    "Read:1\n",
    "\n",
    "and:1\n",
    "\n",
    "between:1\n",
    "\n",
    "choosing:1\n",
    "\n",
    "or:2\n",
    "\n",
    "to:1\n"
   ]
  },
  {
   "cell_type": "code",
   "execution_count": 15,
   "id": "b05d9320",
   "metadata": {},
   "outputs": [
    {
     "name": "stdout",
     "output_type": "stream",
     "text": [
      "Enter a sentence:\n",
      "New to Python or choosing between Python 2 and Python 3? Read Python 2 or Python 3.\n",
      "2:2\n",
      "3.:1\n",
      "3?:1\n",
      "New:1\n",
      "Python:5\n",
      "Read:1\n",
      "and:1\n",
      "between:1\n",
      "choosing:1\n",
      "or:2\n",
      "to:1\n"
     ]
    }
   ],
   "source": [
    "def frequency():\n",
    "    \n",
    "    s=input(\"Enter a sentence:\\n\")\n",
    "    d={}\n",
    "    for i in s.split():\n",
    "        d[i]=d.get(i,0)+1\n",
    "    dd=list(d.keys())\n",
    "    dd.sort()\n",
    "    for j in dd:\n",
    "        print(f\"{j}:{d[j]}\")\n",
    "frequency()"
   ]
  },
  {
   "cell_type": "markdown",
   "id": "ae4670af",
   "metadata": {},
   "source": [
    "Question 4\n",
    "Please write a program to generate all sentences where subject is in [\"I\", \"You\"] and verb is in [\"Play\", \"Love\"] and the object is in [\"Hockey\",\"Football\"].\n"
   ]
  },
  {
   "cell_type": "code",
   "execution_count": 27,
   "id": "9b0fdb0b",
   "metadata": {},
   "outputs": [
    {
     "name": "stdout",
     "output_type": "stream",
     "text": [
      "I Play Hockey\n",
      "You love Football\n"
     ]
    }
   ],
   "source": [
    "subject=['I','You']\n",
    "verb=['Play','love']\n",
    "objects=['Hockey','Football']\n",
    "i,j,k=0,0,0\n",
    "while i<len(subject):\n",
    "    while j<len(verb):\n",
    "        while k<len(object):\n",
    "            d=[subject[i],verb[j],objects[k]]\n",
    "            i+=1\n",
    "            j+=1\n",
    "            k+=1\n",
    "            print(\" \".join(d))\n",
    "#Google code\n",
    "# subject=['I','You']\n",
    "# verb=['Play','love']\n",
    "# object=['Hockey','Football']\n",
    "# ss=[[i,j, k] for i in subject\n",
    "#               for j in verb\n",
    "#                for k in object]\n",
    "# for x in ss:\n",
    "#     print(\" \".join(x))\n"
   ]
  },
  {
   "cell_type": "markdown",
   "id": "12940fa9",
   "metadata": {},
   "source": [
    "Question 5:\n",
    "Please write a program to compress and decompress the string \"hello world!hello world!hello world!hello world!\".\n"
   ]
  },
  {
   "cell_type": "code",
   "execution_count": 34,
   "id": "460ed692",
   "metadata": {},
   "outputs": [
    {
     "name": "stdout",
     "output_type": "stream",
     "text": [
      "b'x\\x9c\\xcbH\\xcd\\xc9\\xc9W(\\xcf/\\xcaIQ\\xcc \\x82\\r\\x00\\xbd[\\x11\\xf5'\n",
      "b'hello world!hello world!hello world!hello world!'\n"
     ]
    }
   ],
   "source": [
    "import zlib\n",
    "s=\"hello world!hello world!hello world!hello world!\".encode()\n",
    "a=zlib.compress(s)\n",
    "print(a)\n",
    "print(zlib.decompress(a))\n"
   ]
  },
  {
   "cell_type": "markdown",
   "id": "de6462ca",
   "metadata": {},
   "source": [
    "Please write a binary search function which searches an item in a sorted list. The function should return the index of element to be searched in the list."
   ]
  },
  {
   "cell_type": "code",
   "execution_count": 44,
   "id": "0d24b7db",
   "metadata": {},
   "outputs": [
    {
     "data": {
      "text/plain": [
       "False"
      ]
     },
     "execution_count": 44,
     "metadata": {},
     "output_type": "execute_result"
    }
   ],
   "source": [
    "def binsearch(t, key):\n",
    "    low=0\n",
    "    high=len(t)-1\n",
    "    while low<high:\n",
    "        mid=(low+high)//2\n",
    "        if t[mid] < key:\n",
    "            low = mid + 1\n",
    "        else:\n",
    "            high = mid\n",
    "    return True if t[low]==key else False\n",
    "binsearch([1,2,3,5,8], 6)\n"
   ]
  },
  {
   "cell_type": "markdown",
   "id": "b640dcc7",
   "metadata": {},
   "source": [
    "Question 3:\n",
    "\n",
    "\n",
    "\n",
    "Define a class Person and its two child classes: Male and Female. All classes have a method \"getGender\" which can print \"Male\" for Male class and \"Female\" for Female class.\n"
   ]
  },
  {
   "cell_type": "code",
   "execution_count": 46,
   "id": "d8a9f98c",
   "metadata": {},
   "outputs": [
    {
     "name": "stdout",
     "output_type": "stream",
     "text": [
      "Male\n"
     ]
    },
    {
     "data": {
      "text/plain": [
       "'Female'"
      ]
     },
     "execution_count": 46,
     "metadata": {},
     "output_type": "execute_result"
    }
   ],
   "source": [
    "class Person:\n",
    "    def getGender(self):\n",
    "        return \"unknown\"\n",
    "\n",
    "class Male(Person):\n",
    "    def getGender(self):\n",
    "        return \"Male\"\n",
    "class Female(Person):\n",
    "    def getGender(self):\n",
    "        return 'Female'\n",
    "amale=Male()\n",
    "afemale=Female()\n",
    "print(amale.getGender())\n",
    "afemale.getGender()"
   ]
  }
 ],
 "metadata": {
  "kernelspec": {
   "display_name": "Python 3 (ipykernel)",
   "language": "python",
   "name": "python3"
  },
  "language_info": {
   "codemirror_mode": {
    "name": "ipython",
    "version": 3
   },
   "file_extension": ".py",
   "mimetype": "text/x-python",
   "name": "python",
   "nbconvert_exporter": "python",
   "pygments_lexer": "ipython3",
   "version": "3.9.12"
  }
 },
 "nbformat": 4,
 "nbformat_minor": 5
}
