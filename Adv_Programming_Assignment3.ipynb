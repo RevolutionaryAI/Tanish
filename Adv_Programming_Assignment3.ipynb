{
 "cells": [
  {
   "cell_type": "markdown",
   "id": "d13c5094",
   "metadata": {},
   "source": [
    "1. Create a function to perform basic arithmetic operations that includes addition, subtraction, multiplication and division on a string number (e.g. \"12 + 24\" or \"23 - 21\" or \"12 // 12\" or \"12 * 21\").\n",
    "\n",
    "Here, we have 1 followed by a space, operator followed by another space and 2. For the challenge, we are going to have only two numbers between 1 valid operator. The return value should be a number.\n",
    "\n",
    "eval() is not allowed. In case of division, whenever the second number equals \"0\" return -1.\n",
    "\n",
    "For example:\n",
    "\n",
    "\"15 // 0\"  ➞ -1\n",
    "\n",
    "Examples\n",
    "\n",
    "arithmetic_operation(\"12 + 12\") ➞ 24 // 12 + 12 = 24\n",
    "\n",
    "arithmetic_operation(\"12 - 12\") ➞ 24 // 12 - 12 = 0\n",
    "\n",
    "arithmetic_operation(\"12 * 12\") ➞ 144 // 12 * 12 = 144\n",
    "\n",
    "arithmetic_operation(\"12 // 0\") ➞ -1 // 12 / 0 = -1\n"
   ]
  },
  {
   "cell_type": "code",
   "execution_count": 115,
   "id": "2ee79532",
   "metadata": {},
   "outputs": [
    {
     "name": "stdout",
     "output_type": "stream",
     "text": [
      "24\n",
      "0\n",
      "144\n",
      "-1\n"
     ]
    }
   ],
   "source": [
    "l=['+','-','//','*']\n",
    "def arithmetic_operation(a):\n",
    "    b=a.split(\" \")\n",
    "    for i in b:\n",
    "        if i == l[0]:\n",
    "            print(int(b[0])+int(b[2]))\n",
    "        elif i==l[1]:\n",
    "            print(int(b[0])-int(b[2]))\n",
    "        elif i==l[2]:\n",
    "            if b[2]=='0':\n",
    "                print(-1)\n",
    "            else:\n",
    "                print(int(b[0])//int(b[2]))\n",
    "        elif i==l[3]:\n",
    "            print(int(b[0])*int(b[2]))\n",
    "\n",
    "arithmetic_operation(\"12 + 12\")\n",
    "arithmetic_operation(\"12 - 12\")\n",
    "arithmetic_operation(\"12 * 12\")\n",
    "arithmetic_operation(\"12 // 0\")"
   ]
  },
  {
   "cell_type": "markdown",
   "id": "4e1ed198",
   "metadata": {},
   "source": [
    "2. Write a function that takes the coordinates of three points in the form of a 2d array and returns the perimeter of the triangle. The given points are the vertices of a triangle on a two-dimensional plane.\n",
    "\n",
    "Examples\n",
    "\n",
    "perimeter( [ [15, 7], [5, 22], [11, 1] ] ) ➞ 47.08\n",
    "\n",
    "perimeter( [ [0, 0], [0, 1], [1, 0] ] ) ➞ 3.42\n",
    "\n",
    "perimeter( [ [-10, -10], [10, 10 ], [-10, 10] ] ) ➞ 68.28\n",
    "\n",
    "3. A city skyline can be represented as a 2-D list with 1s representing buildings. In the example below, the height of the tallest building is 4 (second-most right column).\n",
    "\n",
    "[[0, 0, 0, 0, 0, 0],\n",
    "[0, 0, 0, 0, 1, 0],\n",
    "[0, 0, 1, 0, 1, 0],\n",
    "[0, 1, 1, 1, 1, 0],\n",
    "[1, 1, 1, 1, 1, 1]]\n",
    "\n",
    "Create a function that takes a skyline (2-D list of 0's and 1's) and returns the height of the tallest skyscraper.\n",
    "\n",
    "Examples\n",
    "\n",
    "tallest_skyscraper([\n",
    "  [0, 0, 0, 0],\n",
    "  [0, 1, 0, 0],\n",
    "  [0, 1, 1, 0],\n",
    "  [1, 1, 1, 1]\n",
    "]) ➞ 3\n",
    "\n",
    "tallest_skyscraper([\n",
    "  [0, 1, 0, 0],\n",
    "  [0, 1, 0, 0],\n",
    "  [0, 1, 1, 0],\n",
    "  [1, 1, 1, 1]\n",
    "]) ➞ 4\n",
    "\n",
    "tallest_skyscraper([\n",
    "  [0, 0, 0, 0],\n",
    "  [0, 0, 0, 0],\n",
    "  [1, 1, 1, 0],\n",
    "  [1, 1, 1, 1]\n",
    "]) ➞ 2\n"
   ]
  },
  {
   "cell_type": "code",
   "execution_count": 1,
   "id": "c477faef",
   "metadata": {},
   "outputs": [
    {
     "name": "stdout",
     "output_type": "stream",
     "text": [
      "perimeter([[15, 7], [5, 22], [11, 1]]) ➞ 47.08\n",
      "perimeter([[0, 0], [0, 1], [1, 0]]) ➞ 3.41\n",
      "perimeter([[-10, -10], [10, 10], [-10, 10]]) ➞ 68.28\n"
     ]
    }
   ],
   "source": [
    "from math import sqrt\n",
    "def distance(a,b):\n",
    "    return sqrt((b[1]-a[1])**2+(b[0]-a[0])**2)\n",
    "def perimeter(out):\n",
    "    l=[]\n",
    "    i=0\n",
    "    while i<len(out):\n",
    "        if i==len(out)-1:\n",
    "            l.append(distance(out[i],out[0]))\n",
    "        else:\n",
    "            l.append(distance(out[i],out[i+1]))\n",
    "        i+=1\n",
    "    print(f'perimeter({out}) ➞ {sum(l):.2f}')\n",
    "perimeter([[15,7],[5,22],[11,1]])\n",
    "perimeter([[0,0],[0,1],[1,0]])\n",
    "perimeter([[-10,-10],[10,10],[-10,10]])"
   ]
  },
  {
   "cell_type": "code",
   "execution_count": 23,
   "id": "22671df0",
   "metadata": {},
   "outputs": [
    {
     "name": "stdout",
     "output_type": "stream",
     "text": [
      "Tallest skyscraper is of height 4\n",
      "Tallest skyscraper is of height 3\n",
      "Tallest skyscraper is of height 4\n",
      "Tallest skyscraper is of height 2\n"
     ]
    }
   ],
   "source": [
    "#Approach-1\n",
    "def tallest_skyscraper(l):\n",
    "    for i in l:\n",
    "        if 1 in i:\n",
    "            return len(l)-l.index(i)\n",
    "#Approach-2\n",
    "def tallest_skyscraper(l):\n",
    "    return sum(1 for i in l if sum(i)>0 )\n",
    "\n",
    "test_cases = [\n",
    "    [\n",
    "        [0, 0, 0, 0, 0, 0],\n",
    "        [0, 0, 0, 0, 1, 0],\n",
    "        [0, 0, 1, 0, 1, 0],\n",
    "        [0, 1, 1, 1, 1, 0],\n",
    "        [1, 1, 1, 1, 1, 1]\n",
    "    ], # Tallest: \n",
    "    [\n",
    "        [0, 0, 0, 0],\n",
    "        [0, 1, 0, 0],\n",
    "        [0, 1, 1, 0],\n",
    "        [1, 1, 1, 1]\n",
    "    ], # Tallest: 3\n",
    "    [\n",
    "        [0, 1, 0, 0],\n",
    "        [0, 1, 0, 0],\n",
    "        [0, 1, 1, 0],\n",
    "        [1, 1, 1, 1]\n",
    "    ], # Tallest: 4 \n",
    "    [\n",
    "        [0, 0, 0, 0],\n",
    "        [0, 0, 0, 0],\n",
    "        [1, 1, 1, 0],\n",
    "        [1, 1, 1, 1]\n",
    "    ] # Tallest 2\n",
    "]\n",
    "for test_case in test_cases:\n",
    "    tallest = tallest_skyscraper(test_case)\n",
    "    print(f\"Tallest skyscraper is of height {tallest}\")"
   ]
  },
  {
   "cell_type": "markdown",
   "id": "6739610d",
   "metadata": {},
   "source": [
    "4. A financial institution provides professional services to banks and claims charges from the customers based on the number of man-days provided. Internally, it has set a scheme to motivate and reward staff to meet and exceed targeted billable utilization and revenues by paying a bonus for each day claimed from customers in excess of a threshold target.\n",
    "\n",
    "This quarterly scheme is calculated with a threshold target of 32 days per quarter, and the incentive payment for each billable day in excess of such threshold target is shown as follows:\n",
    "\n",
    "Days\t                             Bonus\n",
    "\n",
    "0 to 32 days\t                   Zero\n",
    "\n",
    "33 to 40 days\t         SGD$325 per billable day\n",
    "\n",
    "41 to 48 days\t         SGD$550 per billable day\n",
    "\n",
    "Greater than 48 days      SGD$600 per billable day\n",
    "\n",
    "Please note that incentive payment is calculated progressively. As an example, if an employee reached total billable days of 45 in a quarter, his/her incentive payment is computed as follows:\n",
    "\n",
    "32*0 + 8*325 + 5*550 = 5350\n",
    "\n",
    "Write a function to read the billable days of an employee and return the bonus he/she has obtained in that quarter.\n",
    "\n",
    "Examples\n",
    "\n",
    "bonus(15) ➞ 0\n",
    "\n",
    "bonus(37) ➞ 1625\n",
    "\n",
    "bonus(50) ➞ 8200\n"
   ]
  },
  {
   "cell_type": "code",
   "execution_count": 26,
   "id": "0a30130c",
   "metadata": {},
   "outputs": [
    {
     "name": "stdout",
     "output_type": "stream",
     "text": [
      "0\n",
      "1625\n",
      "8200\n"
     ]
    }
   ],
   "source": [
    "def bonus(x):\n",
    "    if x>0 and x<=32:\n",
    "        res=0\n",
    "    elif x>33 and x<=40:\n",
    "        res= 0+((x-33+1)*325)  \n",
    "    elif x>41 and x<=48:\n",
    "        res = 0+(8*325)+((x-41+1)*550)\n",
    "    else:\n",
    "        res = 0+(8*325)+(8*550)+((x-48)*600)\n",
    "    print(res)\n",
    "bonus(15)\n",
    "bonus(37)\n",
    "bonus(50)"
   ]
  },
  {
   "cell_type": "markdown",
   "id": "6bd18d4e",
   "metadata": {},
   "source": [
    "5. A number is said to be Disarium if the sum of its digits raised to their respective positions is the number itself.\n",
    "\n",
    "Create a function that determines whether a number is a Disarium or not.\n",
    "\n",
    "Examples\n",
    "\n",
    "is_disarium(75) ➞ False\n",
    " 7^1 + 5^2 = 7 + 25 = 32\n",
    "\n",
    "is_disarium(135) ➞ True\n",
    " 1^1 + 3^2 + 5^3 = 1 + 9 + 125 = 135\n",
    "\n",
    "is_disarium(544) ➞ False\n",
    "\n",
    "is_disarium(518) ➞ True\n",
    "\n",
    "is_disarium(466) ➞ False\n",
    "\n",
    "is_disarium(8) ➞ True\n"
   ]
  },
  {
   "cell_type": "code",
   "execution_count": 10,
   "id": "5e6711af",
   "metadata": {},
   "outputs": [
    {
     "name": "stdout",
     "output_type": "stream",
     "text": [
      "is_disarium(75) ➞ False\n",
      "is_disarium(135) ➞ True\n",
      "is_disarium(544) ➞ False\n",
      "is_disarium(518) ➞ True\n",
      "is_disarium(466) ➞ False\n",
      "is_disarium(8) ➞ True\n"
     ]
    }
   ],
   "source": [
    "\n",
    "def is_disarium(in_num):\n",
    "    sum = 0\n",
    "    output = False\n",
    "    for ele in range(len(str(in_num))):\n",
    "        sum += int(str(in_num)[ele])**(ele+1)\n",
    "    if in_num == sum:\n",
    "        output=True\n",
    "    print(f'is_disarium({in_num}) ➞ {output}')\n",
    "is_disarium(75)\n",
    "is_disarium(135)\n",
    "is_disarium(544)\n",
    "is_disarium(518)\n",
    "is_disarium(466)\n",
    "is_disarium(8)"
   ]
  }
 ],
 "metadata": {
  "kernelspec": {
   "display_name": "Python 3 (ipykernel)",
   "language": "python",
   "name": "python3"
  },
  "language_info": {
   "codemirror_mode": {
    "name": "ipython",
    "version": 3
   },
   "file_extension": ".py",
   "mimetype": "text/x-python",
   "name": "python",
   "nbconvert_exporter": "python",
   "pygments_lexer": "ipython3",
   "version": "3.9.12"
  }
 },
 "nbformat": 4,
 "nbformat_minor": 5
}
