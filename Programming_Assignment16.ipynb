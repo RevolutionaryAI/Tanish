{
 "cells": [
  {
   "cell_type": "markdown",
   "id": "2a9d1f55",
   "metadata": {},
   "source": [
    "Question1. Write a function that stutters a word as if someone is struggling to read it. The first two letters are repeated twice with an ellipsis ... and space after each, and then the word is pronounced with a question mark ?.\n",
    "Examples\n",
    "stutter(\"incredible\") ➞ \"in... in... incredible?\"\n",
    "\n",
    "stutter(\"enthusiastic\") ➞ \"en... en... enthusiastic?\"\n",
    "\n",
    "stutter(\"outstanding\") ➞ \"ou... ou... outstanding?\"\n",
    "\n",
    "Hint :- Assume all input is in lower case and at least two characters long.\n"
   ]
  },
  {
   "cell_type": "code",
   "execution_count": 6,
   "id": "316ab952",
   "metadata": {},
   "outputs": [
    {
     "name": "stdout",
     "output_type": "stream",
     "text": [
      "in...in...incredible?\n",
      "en...en...enthusiastic?\n",
      "ou...ou...outstanding?\n"
     ]
    }
   ],
   "source": [
    "def stutter(n):\n",
    "    print(2*(n[0:2]+'...')+n+\"?\")\n",
    "stutter(\"incredible\")\n",
    "\n",
    "stutter(\"enthusiastic\")\n",
    "\n",
    "stutter(\"outstanding\") \n"
   ]
  },
  {
   "cell_type": "markdown",
   "id": "22f5fb89",
   "metadata": {},
   "source": [
    "Question 2.Create a function that takes an angle in radians and returns the corresponding angle in degrees rounded to one decimal place"
   ]
  },
  {
   "cell_type": "code",
   "execution_count": 8,
   "id": "034f082e",
   "metadata": {},
   "outputs": [
    {
     "name": "stdout",
     "output_type": "stream",
     "text": [
      "57.27272727272727\n",
      "1145.4545454545455\n",
      "2863.6363636363635\n"
     ]
    }
   ],
   "source": [
    "def radian_to_degrees(angle):\n",
    "    pi=22/7\n",
    "    print(angle*(180/pi))\n",
    "radian_to_degrees(1)\n",
    "radian_to_degrees(20)\n",
    "radian_to_degrees(50)"
   ]
  },
  {
   "cell_type": "code",
   "execution_count": 10,
   "id": "00a3cbca",
   "metadata": {},
   "outputs": [
    {
     "name": "stdout",
     "output_type": "stream",
     "text": [
      "False\n",
      "33 is a multiple of 11\n",
      "True\n",
      "1025 is a multiple of 21\n",
      "True\n",
      "16385 is a multiple of 29\n"
     ]
    }
   ],
   "source": [
    "#3.In this challenge, establish if a given integer num is a Curzon number. If 1 plus 2 elevated to num is exactly divisible by 1 plus 2 multiplied by num, then num is a Curzon number. Given a non-negative integer num, implement a function that returns True if num is a Curzon number, or False otherwise.\n",
    "#Examples: `is_curzon(5) ➞ True\n",
    "\n",
    "# 2 ** 5 + 1 = 33\n",
    "# 2 * 5 + 1 = 11\n",
    "# 33 is a multiple of 11\n",
    "#is_curzon(10) ➞ False\n",
    "\n",
    "# 2 ** 10 + 1 = 1025\n",
    "# 2 * 10 + 1 = 21\n",
    "# 1025 is not a multiple of 21\n",
    "#is_curzon(14) ➞ True\n",
    "\n",
    "# 2 ** 14 + 1 = 16385\n",
    "# 2 * 14 + 1 = 29\n",
    "# 16385 is a multiple of 29`\n",
    "\n",
    "\n",
    "\n",
    "def is_curzon(num):\n",
    "    if num%2==0:\n",
    "        print(\"True\")\n",
    "    else:\n",
    "        print(\"False\")\n",
    "    print(\"{} is a multiple of {}\".format(2**num+1,2*num+1))\n",
    "is_curzon(5)\n",
    "is_curzon(10)\n",
    "is_curzon(14)"
   ]
  },
  {
   "attachments": {},
   "cell_type": "markdown",
   "id": "ec050e93",
   "metadata": {},
   "source": [
    "Question 4.Given the side length x find the area of a hexagon.\n",
    "\n",
    "Examples\n",
    "area_of_hexagon(1) ➞ 2.6\n",
    "\n",
    "area_of_hexagon(2) ➞ 10.4\n",
    "\n",
    "area_of_hexagon(3) ➞ 23.4\n"
   ]
  },
  {
   "cell_type": "code",
   "execution_count": 15,
   "id": "39d07eee",
   "metadata": {},
   "outputs": [
    {
     "name": "stdout",
     "output_type": "stream",
     "text": [
      "input 1--->2.598076211353316\n",
      "input 2--->10.392304845413264\n",
      "input 3--->23.382685902179844\n"
     ]
    }
   ],
   "source": [
    "import math as m\n",
    "def area_of_hexagon(n):\n",
    "    area=(3*m.sqrt(3)*n**2)/2\n",
    "    print(\"input {}--->{}\".format(n,area))\n",
    "area_of_hexagon(1)\n",
    "area_of_hexagon(2)\n",
    "area_of_hexagon(3)"
   ]
  },
  {
   "cell_type": "markdown",
   "id": "97e01f9c",
   "metadata": {},
   "source": [
    "Question 5. Create a function that returns a base-2 (binary) representation of a base-10 (decimal) string number. To convert is simple: ((2) means base-2 and (10) means base-10) 010101001(2) = 1 + 8 + 32 + 128.\n",
    "Going from right to left, the value of the most right bit is 1, now from that every bit to the left will be x2 the value, value of an 8 bit binary numbers are (256, 128, 64, 32, 16, 8, 4, 2, 1).\n",
    "Examples\n",
    "\n",
    "binary(1) ➞ \"1\"\n",
    "\n",
    "1*1 = 1\n",
    "\n",
    "binary(5) ➞ \"101\"\n",
    "\n",
    "1*1 + 1*4 = 5\n",
    "\n",
    "binary(10) ➞ \"1010\"\n",
    " \n",
    " 1*2 + 1*8 = 10\n"
   ]
  },
  {
   "cell_type": "code",
   "execution_count": 20,
   "id": "cda41112",
   "metadata": {},
   "outputs": [
    {
     "name": "stdout",
     "output_type": "stream",
     "text": [
      "1--->1\n",
      "5--->101\n",
      "10--->1010\n"
     ]
    }
   ],
   "source": [
    "import math\n",
    "def binary(n):\n",
    "    num=bin(n).replace('0b','')\n",
    "    print(\"{}--->{}\".format(n,num))\n",
    "binary(1)\n",
    "binary(5)\n",
    "binary(10)"
   ]
  }
 ],
 "metadata": {
  "kernelspec": {
   "display_name": "Python 3 (ipykernel)",
   "language": "python",
   "name": "python3"
  },
  "language_info": {
   "codemirror_mode": {
    "name": "ipython",
    "version": 3
   },
   "file_extension": ".py",
   "mimetype": "text/x-python",
   "name": "python",
   "nbconvert_exporter": "python",
   "pygments_lexer": "ipython3",
   "version": "3.9.12"
  }
 },
 "nbformat": 4,
 "nbformat_minor": 5
}
