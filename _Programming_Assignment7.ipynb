{
 "cells": [
  {
   "cell_type": "markdown",
   "id": "07ddfe5e",
   "metadata": {},
   "source": [
    "1.\tWrite a Python Program to find sum of array?"
   ]
  },
  {
   "cell_type": "code",
   "execution_count": 3,
   "id": "9f7e0611",
   "metadata": {},
   "outputs": [
    {
     "name": "stdout",
     "output_type": "stream",
     "text": [
      "Enter a array: [1,2,3,4,5,6]\n"
     ]
    },
    {
     "data": {
      "text/plain": [
       "'[1, 2, 3, 4, 5, 6] sum of array is 21'"
      ]
     },
     "execution_count": 3,
     "metadata": {},
     "output_type": "execute_result"
    }
   ],
   "source": [
    "nos=eval(input(\"Enter a array: \"))\n",
    "\"{} sum of array is {}\".format(nos,sum(nos))"
   ]
  },
  {
   "cell_type": "markdown",
   "id": "445fdbd4",
   "metadata": {},
   "source": [
    "2.\tWrite a Python Program to find largest element in an array?"
   ]
  },
  {
   "cell_type": "code",
   "execution_count": 6,
   "id": "90b7c78c",
   "metadata": {},
   "outputs": [
    {
     "name": "stdout",
     "output_type": "stream",
     "text": [
      "Enter a array: [4,5,6,89]\n"
     ]
    },
    {
     "data": {
      "text/plain": [
       "89"
      ]
     },
     "execution_count": 6,
     "metadata": {},
     "output_type": "execute_result"
    }
   ],
   "source": [
    "nos=eval(input(\"Enter a array: \"))\n",
    "s=0\n",
    "for i in nos:\n",
    "    if i>s:\n",
    "        max=i\n",
    "max"
   ]
  },
  {
   "cell_type": "markdown",
   "id": "52aa5aa4",
   "metadata": {},
   "source": [
    "3.Write a Python program to print the elements of an array?"
   ]
  },
  {
   "cell_type": "code",
   "execution_count": 9,
   "id": "fa77bbb8",
   "metadata": {},
   "outputs": [
    {
     "name": "stdout",
     "output_type": "stream",
     "text": [
      "Enter a array: [4,6,6,7,8]\n",
      "0 1 2 3 4 "
     ]
    }
   ],
   "source": [
    "nos=eval(input(\"Enter a array: \"))\n",
    "for i in range(len(nos)):\n",
    "    print(i,end=\" \")\n"
   ]
  },
  {
   "cell_type": "markdown",
   "id": "6ea60f3b",
   "metadata": {},
   "source": [
    "4.Write a Python Program to Split the array and add the first part to the end?"
   ]
  },
  {
   "cell_type": "markdown",
   "id": "70a44f6d",
   "metadata": {},
   "source": [
    "nos=eval(input(\"Enter a array: \"))\n",
    "k=3\n",
    "total=nos[k:]+nos[:k]\n",
    "print(total)"
   ]
  },
  {
   "cell_type": "markdown",
   "id": "25c808f5",
   "metadata": {},
   "source": [
    "5.Write a Python Program to check if given array is Monotonic?"
   ]
  },
  {
   "cell_type": "code",
   "execution_count": 14,
   "id": "a917907b",
   "metadata": {},
   "outputs": [
    {
     "data": {
      "text/plain": [
       "True"
      ]
     },
     "execution_count": 14,
     "metadata": {},
     "output_type": "execute_result"
    }
   ],
   "source": [
    "def monotonic(n):\n",
    "    a=len(n)\n",
    "    if a==1:\n",
    "        return True\n",
    "    else:\n",
    "        if all(n[i]>=n[i+1] for i in range(0,a-1) or n[i] <=n[i+1] for i in range(a-1)):\n",
    "            return True\n",
    "        else:\n",
    "            return False\n",
    "    \n",
    "l=[6,5,4,2]\n",
    "monotonic(l)\n"
   ]
  }
 ],
 "metadata": {
  "kernelspec": {
   "display_name": "Python 3 (ipykernel)",
   "language": "python",
   "name": "python3"
  },
  "language_info": {
   "codemirror_mode": {
    "name": "ipython",
    "version": 3
   },
   "file_extension": ".py",
   "mimetype": "text/x-python",
   "name": "python",
   "nbconvert_exporter": "python",
   "pygments_lexer": "ipython3",
   "version": "3.9.12"
  }
 },
 "nbformat": 4,
 "nbformat_minor": 5
}
