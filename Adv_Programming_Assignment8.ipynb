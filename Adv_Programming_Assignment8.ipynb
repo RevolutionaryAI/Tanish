{
 "cells": [
  {
   "cell_type": "markdown",
   "id": "b2826143",
   "metadata": {},
   "source": [
    "1. Given a sentence as txt, return True if any two adjacent words have this property: One word ends with a vowel, while the word immediately after begins with a vowel (a e i o u).\n",
    "\n",
    "Examples\n",
    "\n",
    "vowel_links(\"a very large appliance\") ➞ True\n",
    "\n",
    "vowel_links(\"go to edabit\") ➞ True\n",
    "\n",
    "vowel_links(\"an open fire\") ➞ False\n",
    "\n",
    "vowel_links(\"a sudden applause\") ➞ False\n"
   ]
  },
  {
   "cell_type": "code",
   "execution_count": 60,
   "id": "3f988843",
   "metadata": {
    "scrolled": true
   },
   "outputs": [
    {
     "name": "stdout",
     "output_type": "stream",
     "text": [
      "True\n",
      "True\n",
      "False\n",
      "True\n"
     ]
    }
   ],
   "source": [
    "def vowel_links(x):\n",
    "    a=x.split(\" \")\n",
    "    vowels=\"aieou\"\n",
    "    res=False\n",
    "    for i in range(len(a)):\n",
    "        if a[i][-1] in vowels:\n",
    "            return True\n",
    "        else:\n",
    "            return False\n",
    "    for j in range(len(a)):\n",
    "        if a[j][0] in vowels:\n",
    "            return True\n",
    "        else:\n",
    "            return False\n",
    "    else:\n",
    "        res=True\n",
    "            \n",
    "print(vowel_links(\"a very large appliance\"))#True\n",
    "print(vowel_links(\"go to edabit\"))#True\n",
    "print(vowel_links(\"an open fire\"))#False\n",
    "print(vowel_links(\"a sudden applause\"))#True"
   ]
  },
  {
   "cell_type": "markdown",
   "id": "c3ac494c",
   "metadata": {},
   "source": [
    "2. You are given three inputs: a string, one letter, and a second letter.\n",
    "\n",
    "Write a function that returns True if every instance of the first letter occurs before every instance of the second letter.\n",
    "\n",
    "Examples\n",
    "\n",
    "first_before_second(\"a rabbit jumps joyfully\", \"a\", \"j\") ➞ True\n",
    "#Every instance of \"a\" occurs before every instance of \"j\".\n",
    "\n",
    "first_before_second(\"knaves knew about waterfalls\", \"k\", \"w\") ➞  True\n",
    "\n",
    "first_before_second(\"happy birthday\", \"a\", \"y\") ➞ False\n",
    "#The \"a\" in \"birthday\" occurs after the \"y\" in \"happy\".\n",
    "\n",
    "first_before_second(\"precarious kangaroos\", \"k\", \"a\") ➞ False\n"
   ]
  },
  {
   "cell_type": "code",
   "execution_count": null,
   "id": "79ef0495",
   "metadata": {},
   "outputs": [],
   "source": [
    "def first_before_second(string,before,after):\n",
    "    if string.rfind(before)<string.find(after):\n",
    "        print(\"True\")\n",
    "    else:\n",
    "        print(\"False\")\n",
    "first_before_second(\"a rabbit jumps joyfully\", \"a\", \"j\")\n",
    "first_before_second(\"knaves knew about waterfalls\", \"k\", \"w\")\n",
    "first_before_second(\"happy birthday\", \"a\", \"y\")\n",
    "first_before_second(\"precarious kangaroos\", \"k\", \"a\") "
   ]
  },
  {
   "cell_type": "markdown",
   "id": "ead761b1",
   "metadata": {},
   "source": [
    "3. Create a function that returns the characters from a list or string r on odd or even positions, depending on the specifier s. The specifier will be \"odd\" for items on odd positions (1, 3, 5, ...) and \"even\" for items on even positions (2, 4, 6, ...).\n",
    "\n",
    "Examples\n",
    "\n",
    "char_at_pos([2, 4, 6, 8, 10], \"even\") ➞ [4, 8]\n",
    "#4 & 8 occupy the 2nd & 4th positions\n",
    "\n",
    "char_at_pos(\"EDABIT\", \"odd\") ➞ \"EAI\"\n",
    "#\"E\", \"A\" and \"I\" occupy the 1st, 3rd and 5th positions\n",
    "\n",
    "char_at_pos([\"A\", \"R\", \"B\", \"I\", \"T\", \"R\", \"A\", \"R\", \"I\", \"L\", \"Y\"], \"odd\") ➞ [\"A\", \"B\", \"T\", \"A\", \"I\", \"Y\"]\n"
   ]
  },
  {
   "cell_type": "code",
   "execution_count": 161,
   "id": "a8573856",
   "metadata": {},
   "outputs": [
    {
     "name": "stdout",
     "output_type": "stream",
     "text": [
      "[4, 8]\n",
      "['E', 'A', 'I']\n",
      "['A', 'B', 'T', 'A', 'I']\n"
     ]
    }
   ],
   "source": [
    "def char_at_pos(lst,word):\n",
    "    l=[]\n",
    "    i=0\n",
    "    while i<len(lst)-1:\n",
    "        if word == \"even\" and (i+1)%2 == 0:\n",
    "            l.append(lst[i])\n",
    "        elif word == \"odd\" and (i+1)%2 != 0:\n",
    "            l.append(lst[i])\n",
    "        i+=1\n",
    "    print(l)\n",
    "        \n",
    "char_at_pos([2, 4, 6, 8, 10], \"even\")        \n",
    "char_at_pos(\"EDABIT\", \"odd\")\n",
    "char_at_pos([\"A\", \"R\", \"B\", \"I\", \"T\", \"R\", \"A\", \"R\", \"I\", \"L\", \"Y\"], \"odd\") "
   ]
  },
  {
   "cell_type": "markdown",
   "id": "545850ce",
   "metadata": {},
   "source": [
    "4. Write a function that returns the greatest common divisor of all list elements. If the greatest common divisor is 1, return 1.\n",
    "\n",
    "Examples\n",
    "\n",
    "GCD([10, 20, 40]) ➞ 10\n",
    "\n",
    "GCD([1, 2, 3, 100]) ➞ 1\n",
    "\n",
    "GCD([1024, 192, 2048, 512]) ➞ 64\n",
    "\n"
   ]
  },
  {
   "cell_type": "code",
   "execution_count": 3,
   "id": "c0b4498d",
   "metadata": {},
   "outputs": [
    {
     "name": "stdout",
     "output_type": "stream",
     "text": [
      "10\n",
      "64\n",
      "1\n"
     ]
    }
   ],
   "source": [
    "#Approach-1\n",
    "import numpy as np\n",
    "def GCD(x):\n",
    "    print(np.gcd.reduce(x))\n",
    "#Approach-2\n",
    "import math as m\n",
    "def GCD(x):\n",
    "    print(m.gcd(*x))\n",
    "    \n",
    "GCD([10, 20, 40]) \n",
    "GCD([1024, 192, 2048, 512]) \n",
    "GCD([1, 2, 3, 100])"
   ]
  },
  {
   "cell_type": "markdown",
   "id": "3c5a9f52",
   "metadata": {},
   "source": [
    "5. A number/string is a palindrome if the digits/characters are the same when read both forward and backward. Examples include \"racecar\" and 12321. Given a positive number n, check if n or the binary representation of n is palindromic. Return the following:\n",
    "\n",
    "- \"Decimal only.\" if only n is a palindrome.\n",
    "- \"Binary only.\" if only the binary representation of n is a palindrome.\n",
    "- \"Decimal and binary.\" if both are palindromes.\n",
    "- \"Neither!\" if neither are palindromes.\n",
    "\n",
    "Examples\n",
    "\n",
    "palindrome_type(1306031) ➞ \"Decimal only.\"\n",
    "#decimal = 1306031\n",
    "#binary  = \"100111110110110101111\"\n",
    "\n",
    "palindrome_type(427787) ➞ \"Binary only.\"\n",
    "#decimal = 427787\n",
    "#binary  = \"1101000011100001011\"\n",
    "\n",
    "palindrome_type(313) ➞ \"Decimal and binary.\"\n",
    "#decimal = 313\n",
    "#binary  = 100111001\n",
    "\n",
    "palindrome_type(934) ➞ \"Neither!\"\n",
    "#decimal = 934\n",
    "#binary  = \"1110100110\"\n"
   ]
  },
  {
   "cell_type": "code",
   "execution_count": 58,
   "id": "f86d0f43",
   "metadata": {},
   "outputs": [
    {
     "name": "stdout",
     "output_type": "stream",
     "text": [
      "Decimal only\n",
      "Neither !\n",
      "Decimal and binary\n",
      "Neither !\n"
     ]
    }
   ],
   "source": [
    "def palindrome_type(x):\n",
    "    c=str(x)\n",
    "    d=c[::-1]\n",
    "    e=str(bin(x)[2:])\n",
    "    if c==d and e!=e[::-1]:\n",
    "        print(\"Decimal only\")\n",
    "    elif e!=e[::-1] and c==d:\n",
    "        print(\"Binary only\")\n",
    "    elif c==d and e==e[::-1]:\n",
    "        print(\"Decimal and binary\")\n",
    "    else:\n",
    "        print(\"Neither !\")\n",
    "palindrome_type(1306031) \n",
    "palindrome_type(934)\n",
    "palindrome_type(313) \n",
    "palindrome_type(427787)"
   ]
  }
 ],
 "metadata": {
  "kernelspec": {
   "display_name": "Python 3 (ipykernel)",
   "language": "python",
   "name": "python3"
  },
  "language_info": {
   "codemirror_mode": {
    "name": "ipython",
    "version": 3
   },
   "file_extension": ".py",
   "mimetype": "text/x-python",
   "name": "python",
   "nbconvert_exporter": "python",
   "pygments_lexer": "ipython3",
   "version": "3.9.12"
  }
 },
 "nbformat": 4,
 "nbformat_minor": 5
}
