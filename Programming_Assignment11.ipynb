{
 "cells": [
  {
   "cell_type": "markdown",
   "id": "45836aae",
   "metadata": {},
   "source": [
    "1. Write a Python program to find words which are greater than given length k?"
   ]
  },
  {
   "cell_type": "code",
   "execution_count": 12,
   "id": "d90a5df7",
   "metadata": {},
   "outputs": [
    {
     "name": "stdout",
     "output_type": "stream",
     "text": [
      "welcome studytonight\n"
     ]
    }
   ],
   "source": [
    "def length_words(k,words):\n",
    "    l=[]\n",
    "    a=words.split(\" \")\n",
    "    for i in a:\n",
    "        if len(i)>k:\n",
    "            l.append(i)\n",
    "    print(\" \".join(l))\n",
    "\n",
    "length_words(6,\"hello welcome to studytonight\")"
   ]
  },
  {
   "cell_type": "markdown",
   "id": "a53d6319",
   "metadata": {},
   "source": [
    "2.\tWrite a Python program for removing i-th character from a string?"
   ]
  },
  {
   "cell_type": "code",
   "execution_count": 22,
   "id": "a46c9413",
   "metadata": {
    "scrolled": true
   },
   "outputs": [
    {
     "name": "stdout",
     "output_type": "stream",
     "text": [
      "Geks\n"
     ]
    }
   ],
   "source": [
    "def remove_ith(k,words):\n",
    "    a=list(words)\n",
    "    a.pop(k)\n",
    "    print(\"\".join(a))\n",
    "remove_ith(2,\"Geeks\")\n",
    "\n",
    "    "
   ]
  },
  {
   "cell_type": "markdown",
   "id": "8270f4e4",
   "metadata": {},
   "source": [
    "3.\tWrite a Python program to split and join a string?"
   ]
  },
  {
   "cell_type": "code",
   "execution_count": 26,
   "id": "dc5a808c",
   "metadata": {},
   "outputs": [
    {
     "name": "stdout",
     "output_type": "stream",
     "text": [
      "my name is\n"
     ]
    }
   ],
   "source": [
    "def string(words):\n",
    "    words.split()\n",
    "    print(\"\".join(words))\n",
    "string(\"my name is\")"
   ]
  },
  {
   "cell_type": "markdown",
   "id": "787b6bf1",
   "metadata": {},
   "source": [
    "4.\tWrite a Python to check if a given string is binary string or not?"
   ]
  },
  {
   "cell_type": "code",
   "execution_count": 96,
   "id": "12654f29",
   "metadata": {},
   "outputs": [
    {
     "data": {
      "text/plain": [
       "'It is a binary'"
      ]
     },
     "execution_count": 96,
     "metadata": {},
     "output_type": "execute_result"
    }
   ],
   "source": [
    "def binary_words(words):\n",
    "    try:\n",
    "        int(words,2)\n",
    "    except ValueError:\n",
    "        return \"It is not a binary\"\n",
    "    return \"It is a binary\"\n",
    "binary_words(\"101011000111\")"
   ]
  },
  {
   "cell_type": "markdown",
   "id": "33548ea6",
   "metadata": {},
   "source": [
    "5.\tWrite a Python program to find uncommon words from two Strings?"
   ]
  },
  {
   "cell_type": "markdown",
   "id": "28f82663",
   "metadata": {},
   "source": [
    "def uncommonwords(a,b):\n",
    "    in_lista=a.split()\n",
    "    in_listb=b.split()\n",
    "    s=\"\"\n",
    "    for i in in_lista:\n",
    "        if i not in in_listb:\n",
    "            s=s+\" \"+i\n",
    "    for j in in_listb:\n",
    "        if j not in in_lista :\n",
    "            s=s+\" \"+j\n",
    "    return s\n",
    "uncommonwords(\"apple banana mango\" ,\"banana fruits mango\")"
   ]
  },
  {
   "cell_type": "code",
   "execution_count": 141,
   "id": "a5aa121d",
   "metadata": {},
   "outputs": [
    {
     "data": {
      "text/plain": [
       "['u', 'c', 'a', 's', ' ', 'e', 't', 'l']"
      ]
     },
     "execution_count": 141,
     "metadata": {},
     "output_type": "execute_result"
    }
   ],
   "source": [
    "#6. Write a Python to find all duplicate characters in string ?\n",
    "def duplicate(words):\n",
    "    l=[]\n",
    "    l1=[]\n",
    "    for i in words:\n",
    "        if i not in l:\n",
    "            l.append(i)\n",
    "        else:\n",
    "            l1.append(i)\n",
    "    return list(set(l1))\n",
    "duplicate(\"full stack data science course\")\n"
   ]
  },
  {
   "cell_type": "markdown",
   "id": "16645c5b",
   "metadata": {},
   "source": [
    "7. Write a Python Program to check if a string contains any special character?"
   ]
  },
  {
   "cell_type": "code",
   "execution_count": 144,
   "id": "f49129ff",
   "metadata": {},
   "outputs": [
    {
     "name": "stdout",
     "output_type": "stream",
     "text": [
      "GeeksForGeeks\n"
     ]
    }
   ],
   "source": [
    "def special(words):\n",
    "    s='[@_!#$%^&*()<>?/\\|}{~:]'\n",
    "    l=[]\n",
    "    for i in words:\n",
    "        if i not in s:\n",
    "            l.append(i)\n",
    "    print(\"\".join(l))\n",
    "special(\"Geeks$For$Geeks\")\n"
   ]
  }
 ],
 "metadata": {
  "kernelspec": {
   "display_name": "Python 3 (ipykernel)",
   "language": "python",
   "name": "python3"
  },
  "language_info": {
   "codemirror_mode": {
    "name": "ipython",
    "version": 3
   },
   "file_extension": ".py",
   "mimetype": "text/x-python",
   "name": "python",
   "nbconvert_exporter": "python",
   "pygments_lexer": "ipython3",
   "version": "3.9.12"
  }
 },
 "nbformat": 4,
 "nbformat_minor": 5
}
