{
 "cells": [
  {
   "cell_type": "markdown",
   "id": "5def0ae0",
   "metadata": {},
   "source": [
    "Question1\n",
    "Create a function that takes three parameters where:\n",
    "•\tx is the start of the range (inclusive).\n",
    "•\ty is the end of the range (inclusive).\n",
    "•\tn is the divisor to be checked against.\n",
    "Return an ordered list with numbers in the range that are divisible by the third parameter n. Return an empty list if there are no numbers that are divisible by n.\n",
    "Examples\n",
    "\n",
    "list_operation(1, 10, 3) ➞ [3, 6, 9]\n",
    "\n",
    "list_operation(7, 9, 2) ➞ [8]\n",
    "\n",
    "list_operation(15, 20, 7) ➞ []\n",
    "\n"
   ]
  },
  {
   "cell_type": "code",
   "execution_count": 1,
   "id": "15ab51cf",
   "metadata": {},
   "outputs": [
    {
     "name": "stdout",
     "output_type": "stream",
     "text": [
      "[3, 6, 9]\n",
      "[8]\n",
      "[]\n"
     ]
    }
   ],
   "source": [
    "def list_operation(x,y,n):\n",
    "    l=[]\n",
    "    for i in range(x,y+1):\n",
    "        if i%n==0:\n",
    "            l.append(i)\n",
    "    print(l)\n",
    "list_operation(1, 10, 3)\n",
    "\n",
    "list_operation(7, 9, 2)\n",
    "\n",
    "list_operation(15, 20, 7) "
   ]
  },
  {
   "cell_type": "markdown",
   "id": "76811c5c",
   "metadata": {},
   "source": [
    "Question2\n",
    "Create a function that takes in two lists and returns True if the second list follows the first list by one element, and False otherwise. In other words, determine if the second list is the first list shifted to the right by 1.\n",
    "Examples\n",
    "\n",
    "simon_says([1, 2], [5, 1]) ➞ True\n",
    "\n",
    "simon_says([1, 2], [5, 5]) ➞ False\n",
    "\n",
    "simon_says([1, 2, 3, 4, 5], [0, 1, 2, 3, 4]) ➞ True\n",
    "\n",
    "simon_says([1, 2, 3, 4, 5], [5, 5, 1, 2, 3]) ➞ False\n"
   ]
  },
  {
   "cell_type": "code",
   "execution_count": 31,
   "id": "674e5764",
   "metadata": {},
   "outputs": [
    {
     "name": "stdout",
     "output_type": "stream",
     "text": [
      "True\n",
      "None\n",
      "True\n",
      "True\n"
     ]
    }
   ],
   "source": [
    "def simon_says(a,b):\n",
    "    for i in a:\n",
    "        for j in b:\n",
    "            if i==j:\n",
    "                return True\n",
    "print(simon_says([1, 2], [5, 1]))\n",
    "\n",
    "print(simon_says([1, 2], [5, 5])) \n",
    "\n",
    "print(simon_says([1, 2, 3, 4, 5], [0, 1, 2, 3, 4])) \n",
    "\n",
    "print(simon_says([1, 2, 3, 4, 5], [5, 5, 1, 2, 3]) )               \n"
   ]
  },
  {
   "cell_type": "markdown",
   "id": "f282866c",
   "metadata": {},
   "source": [
    "Question3\n",
    "A group of friends have decided to start a secret society. The name will be the first letter of each of their names, sorted in alphabetical order.\n",
    "Create a function that takes in a list of names and returns the name of the secret society.\n",
    "Examples\n",
    "\n",
    "society_name([\"Adam\", \"Sarah\", \"Malcolm\"]) ➞ \"AMS\"\n",
    "\n",
    "society_name([\"Harry\", \"Newt\", \"Luna\", \"Cho\"]) ➞ \"CHLN\"\n",
    "\n",
    "society_name([\"Phoebe\", \"Chandler\", \"Rachel\", \"Ross\", \"Monica\", \"Joey\"])\n"
   ]
  },
  {
   "cell_type": "code",
   "execution_count": 41,
   "id": "5ad67799",
   "metadata": {},
   "outputs": [
    {
     "name": "stdout",
     "output_type": "stream",
     "text": [
      "AMS\n",
      "CHLN\n",
      "CJMPRR\n"
     ]
    }
   ],
   "source": [
    "def society_name(x):\n",
    "    l=[]\n",
    "    for i in x:\n",
    "        l.append(i[0])\n",
    "        l.sort()\n",
    "    print(\"\".join(l))\n",
    "society_name([\"Adam\", \"Sarah\", \"Malcolm\"]) \n",
    "society_name([\"Harry\", \"Newt\", \"Luna\", \"Cho\"])\n",
    "society_name([\"Phoebe\", \"Chandler\", \"Rachel\", \"Ross\", \"Monica\", \"Joey\"])\n"
   ]
  },
  {
   "cell_type": "markdown",
   "id": "7447fd4d",
   "metadata": {},
   "source": [
    "Question4\n",
    "An isogram is a word that has no duplicate letters. Create a function that takes a string and returns either True or False depending on whether or not it's an \"isogram\".\n",
    "Examples\n",
    "is_isogram(\"Algorism\") ➞ True\n",
    "\n",
    "is_isogram(\"PasSword\") ➞ False\n",
    " Not case sensitive.\n",
    "\n",
    "is_isogram(\"Consecutive\") ➞ False\n"
   ]
  },
  {
   "cell_type": "code",
   "execution_count": 62,
   "id": "9f5e8dff",
   "metadata": {},
   "outputs": [
    {
     "name": "stdout",
     "output_type": "stream",
     "text": [
      "True\n",
      "True\n",
      "False\n"
     ]
    }
   ],
   "source": [
    "def is_isogram(words):\n",
    "    words=words.lower()\n",
    "    for i in words:\n",
    "        if words.count(i)>1:\n",
    "            return False\n",
    "        return True\n",
    "print(is_isogram(\"Algorism\"))\n",
    "print(is_isogram(\"PasSword\"))\n",
    "print(is_isogram(\"Consecutive\"))"
   ]
  },
  {
   "cell_type": "markdown",
   "id": "5294c373",
   "metadata": {},
   "source": [
    "Question5\n",
    "Create a function that takes a string and returns True or False, depending on whether the characters are in order or not.\n",
    "Examples\n",
    "is_in_order(\"abc\") ➞ True\n",
    "\n",
    "is_in_order(\"edabit\") ➞ False\n",
    "\n",
    "is_in_order(\"123\") ➞ True\n",
    "\n",
    "is_in_order(\"xyzz\") ➞ True\n",
    "Notes\n",
    "You don't have to handle empty strings.\n"
   ]
  },
  {
   "cell_type": "code",
   "execution_count": 67,
   "id": "2d0a2596",
   "metadata": {},
   "outputs": [
    {
     "name": "stdout",
     "output_type": "stream",
     "text": [
      "True\n",
      "False\n",
      "True\n",
      "True\n"
     ]
    }
   ],
   "source": [
    "def is_in_order(x):\n",
    "    n=len(x)\n",
    "    for i in range(1,n):\n",
    "        if (x[i]<x[i-1]):\n",
    "            return False\n",
    "        return True\n",
    "print(is_in_order(\"abc\"))\n",
    "\n",
    "print(is_in_order(\"edabit\"))\n",
    "\n",
    "print(is_in_order(\"123\") )\n",
    "\n",
    "print(is_in_order(\"xyzz\")) "
   ]
  }
 ],
 "metadata": {
  "kernelspec": {
   "display_name": "Python 3 (ipykernel)",
   "language": "python",
   "name": "python3"
  },
  "language_info": {
   "codemirror_mode": {
    "name": "ipython",
    "version": 3
   },
   "file_extension": ".py",
   "mimetype": "text/x-python",
   "name": "python",
   "nbconvert_exporter": "python",
   "pygments_lexer": "ipython3",
   "version": "3.9.12"
  }
 },
 "nbformat": 4,
 "nbformat_minor": 5
}
