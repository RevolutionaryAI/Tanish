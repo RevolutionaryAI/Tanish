{
 "cells": [
  {
   "cell_type": "markdown",
   "id": "6ad86be2",
   "metadata": {},
   "source": [
    "Question 1:\n",
    "Please write a program using generator to print the numbers which can be divisible by 5 and 7 between 0 and n in comma separated form while n is input by console.\n",
    "Example:\n",
    "\n",
    "If the following n is given as input to the program:\n",
    "\n",
    "100\n",
    "\n",
    "Then, the output of the program should be:\n",
    "\n",
    "0,35,70\n"
   ]
  },
  {
   "cell_type": "code",
   "execution_count": 15,
   "id": "b2f9fe97",
   "metadata": {},
   "outputs": [
    {
     "name": "stdout",
     "output_type": "stream",
     "text": [
      "0\n",
      "35\n",
      "70\n"
     ]
    }
   ],
   "source": [
    "def divis5and7(n):\n",
    "    i=0\n",
    "    while i<n:\n",
    "        j=i\n",
    "        i+=1\n",
    "        if j%7==0 and j%5==0:\n",
    "            yield j\n",
    "for j in divis5and7(100):\n",
    "    print(j)\n",
    "   \n"
   ]
  },
  {
   "cell_type": "markdown",
   "id": "dd949f7d",
   "metadata": {},
   "source": [
    "Please write a program using generator to print the even numbers between 0 and n in comma separated form while n is input by console.\n",
    "\n",
    "Example:\n",
    "If the following n is given as input to the program:\n",
    "10\n",
    "Then, the output of the program should be:\n",
    "0,2,4,6,8,10\n"
   ]
  },
  {
   "cell_type": "code",
   "execution_count": 24,
   "id": "2fb561b5",
   "metadata": {},
   "outputs": [
    {
     "name": "stdout",
     "output_type": "stream",
     "text": [
      "0,2,4,6,8,10,"
     ]
    }
   ],
   "source": [
    "def even(n):\n",
    "    i=0\n",
    "    while i<n:\n",
    "        j=i\n",
    "        i+=1\n",
    "        if j%2==0:\n",
    "            yield j\n",
    "for j in even(11):\n",
    "    print(j,end=\",\")"
   ]
  },
  {
   "cell_type": "raw",
   "id": "dd40aa98",
   "metadata": {},
   "source": [
    "Question 3:\n",
    "The Fibonacci Sequence is computed based on the following formula:\n",
    "f(n)=0 if n=0\n",
    "f(n)=1 if n=1\n",
    "f(n)=f(n-1)+f(n-2) if n>1\n",
    "Please write a program using list comprehension to print the Fibonacci Sequence in comma separated form with a given n input by console.\n",
    "Example:\n",
    "If the following n is given as input to the program:\n",
    "7\n",
    "\n",
    "Then, the output of the program should be:\n",
    "0,1,1,2,3,5,8,13\n"
   ]
  },
  {
   "cell_type": "code",
   "execution_count": 91,
   "id": "b6bccc8e",
   "metadata": {},
   "outputs": [
    {
     "data": {
      "text/plain": [
       "13"
      ]
     },
     "execution_count": 91,
     "metadata": {},
     "output_type": "execute_result"
    }
   ],
   "source": [
    "def fibo(n):\n",
    "    if n==0:\n",
    "        return 0\n",
    "    elif n==1:\n",
    "        return 1\n",
    "    else:\n",
    "        return fibo(n-1)+fibo(n-2)\n",
    "fibo(7)"
   ]
  },
  {
   "cell_type": "markdown",
   "id": "13c03733",
   "metadata": {},
   "source": [
    "Question 4:\n",
    "Assuming that we have some email addresses in the \"username@companyname.com\" format, please write program to print the user name of a given email address. \n",
    "\n",
    "Both user names and company names are composed of letters only.\n",
    "\n",
    "Example:\n",
    "\n",
    "If the following email address is given as input to the program:\n",
    "\n",
    "john@google.com\n",
    "\n",
    "Then, the output of the program should be:\n"
   ]
  },
  {
   "cell_type": "code",
   "execution_count": 8,
   "id": "3bac1192",
   "metadata": {},
   "outputs": [
    {
     "data": {
      "text/plain": [
       "'john'"
      ]
     },
     "execution_count": 8,
     "metadata": {},
     "output_type": "execute_result"
    }
   ],
   "source": [
    "words='john@google.com'\n",
    "a=words.split(\"@\")\n",
    "a[0]"
   ]
  },
  {
   "cell_type": "markdown",
   "id": "2da15b65",
   "metadata": {},
   "source": [
    "Question 5:\n",
    "Define a class named Shape and its subclass Square. The Square class has an init function which takes a length as argument. Both classes have a area function which can print the area of the shape where Shape's area is 0 by default.\n"
   ]
  },
  {
   "cell_type": "code",
   "execution_count": 9,
   "id": "1154f703",
   "metadata": {},
   "outputs": [
    {
     "name": "stdout",
     "output_type": "stream",
     "text": [
      "25\n"
     ]
    }
   ],
   "source": [
    "class shape():\n",
    "    def __init__(self):\n",
    "        pass\n",
    "    def area(self):\n",
    "        return 0\n",
    "    \n",
    "class square(shape):\n",
    "    def __init__(self,length=0):\n",
    "        shape.__init__(self)\n",
    "        self.length=length\n",
    "        \n",
    "    def area(self):\n",
    "        return self.length*self.length\n",
    "asqr=square(5)\n",
    "print(asqr.area())"
   ]
  }
 ],
 "metadata": {
  "kernelspec": {
   "display_name": "Python 3 (ipykernel)",
   "language": "python",
   "name": "python3"
  },
  "language_info": {
   "codemirror_mode": {
    "name": "ipython",
    "version": 3
   },
   "file_extension": ".py",
   "mimetype": "text/x-python",
   "name": "python",
   "nbconvert_exporter": "python",
   "pygments_lexer": "ipython3",
   "version": "3.9.12"
  }
 },
 "nbformat": 4,
 "nbformat_minor": 5
}
