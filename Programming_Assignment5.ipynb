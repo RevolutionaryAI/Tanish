{
 "cells": [
  {
   "cell_type": "markdown",
   "id": "b16411a4",
   "metadata": {},
   "source": [
    "1.\tWrite a Python Program to Find LCM?"
   ]
  },
  {
   "cell_type": "code",
   "execution_count": 28,
   "id": "33621eb6",
   "metadata": {},
   "outputs": [
    {
     "data": {
      "text/plain": [
       "200.0"
      ]
     },
     "execution_count": 28,
     "metadata": {},
     "output_type": "execute_result"
    }
   ],
   "source": [
    "a,b,c,=0,0,0\n",
    "def lcm(a,b):\n",
    "    for i in range(1,a+1):\n",
    "        if i<=b:\n",
    "            if a%i==0 and b%i==0:\n",
    "                c=i\n",
    "    x=a*b/c\n",
    "    return x\n",
    "        \n",
    "lcm(50,8)\n",
    "# p, q, x, g = 0, 0, 0, 0\n",
    "\n"
   ]
  },
  {
   "cell_type": "markdown",
   "id": "8adb5254",
   "metadata": {},
   "source": [
    "2.\tWrite a Python Program to Find HCF?"
   ]
  },
  {
   "cell_type": "code",
   "execution_count": 32,
   "id": "614a615d",
   "metadata": {},
   "outputs": [
    {
     "data": {
      "text/plain": [
       "1"
      ]
     },
     "execution_count": 32,
     "metadata": {},
     "output_type": "execute_result"
    }
   ],
   "source": [
    "def hcf(a,b):\n",
    "    if a>b:\n",
    "        c=a\n",
    "    else:\n",
    "        c=b\n",
    "    for i in range(1,a+1):\n",
    "        if a%i==0 and b%i==0:\n",
    "            c=i\n",
    "        return c\n",
    "hcf(80,45)"
   ]
  },
  {
   "cell_type": "markdown",
   "id": "a2a72f10",
   "metadata": {},
   "source": [
    "3.\tWrite a Python Program to Convert Decimal to Binary, Octal and Hexadecimal?"
   ]
  },
  {
   "cell_type": "code",
   "execution_count": 38,
   "id": "d15d6286",
   "metadata": {},
   "outputs": [
    {
     "data": {
      "text/plain": [
       "('0b1010101', '0o125', '0x55')"
      ]
     },
     "execution_count": 38,
     "metadata": {},
     "output_type": "execute_result"
    }
   ],
   "source": [
    "def converter(a):\n",
    "    return bin(a),oct(a),hex(a)\n",
    "converter(85)"
   ]
  },
  {
   "cell_type": "markdown",
   "id": "ed0053a2",
   "metadata": {},
   "source": [
    "5.\tWrite a Python Program to Make a Simple Calculator with 4 basic mathematical operations?"
   ]
  },
  {
   "cell_type": "code",
   "execution_count": 40,
   "id": "e8e2e925",
   "metadata": {},
   "outputs": [
    {
     "data": {
      "text/plain": [
       "(10, 0, 1.0, 25)"
      ]
     },
     "execution_count": 40,
     "metadata": {},
     "output_type": "execute_result"
    }
   ],
   "source": [
    "def aritmethic(a,b):\n",
    "    return a+b,a-b,a/b,a*b\n",
    "aritmethic(5,5)"
   ]
  }
 ],
 "metadata": {
  "kernelspec": {
   "display_name": "Python 3 (ipykernel)",
   "language": "python",
   "name": "python3"
  },
  "language_info": {
   "codemirror_mode": {
    "name": "ipython",
    "version": 3
   },
   "file_extension": ".py",
   "mimetype": "text/x-python",
   "name": "python",
   "nbconvert_exporter": "python",
   "pygments_lexer": "ipython3",
   "version": "3.9.12"
  }
 },
 "nbformat": 4,
 "nbformat_minor": 5
}
