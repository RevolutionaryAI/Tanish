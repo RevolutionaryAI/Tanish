{
 "cells": [
  {
   "cell_type": "markdown",
   "id": "14a3bf2e",
   "metadata": {},
   "source": [
    "1.\tWrite a Python program to Extract Unique values dictionary values?"
   ]
  },
  {
   "cell_type": "code",
   "execution_count": 5,
   "id": "2c3125a8",
   "metadata": {},
   "outputs": [
    {
     "data": {
      "text/plain": [
       "[[5, 6, 7, 8], [10, 11, 7, 5], [6, 12, 10, 8], [1, 2, 5]]"
      ]
     },
     "execution_count": 5,
     "metadata": {},
     "output_type": "execute_result"
    }
   ],
   "source": [
    "d= {'gfg' : [5, 6, 7, 8],\n",
    "             'is' : [10, 11, 7, 5],\n",
    "             'best' : [6, 12, 10, 8],\n",
    "     'for' : [1, 2, 5]}\n",
    "l=[]\n",
    "for i in d.items():\n",
    "    l.append(i[1])\n",
    "l"
   ]
  },
  {
   "cell_type": "markdown",
   "id": "49082eed",
   "metadata": {},
   "source": [
    "2.\tWrite a Python program to find the sum of all items in a dictionary?"
   ]
  },
  {
   "cell_type": "code",
   "execution_count": 8,
   "id": "a8874356",
   "metadata": {},
   "outputs": [
    {
     "data": {
      "text/plain": [
       "600"
      ]
     },
     "execution_count": 8,
     "metadata": {},
     "output_type": "execute_result"
    }
   ],
   "source": [
    "d={\"a\": 100, \"b\":200, \"c\":300}\n",
    "c=0\n",
    "for i in d.items():\n",
    "    c+=i[1]\n",
    "c"
   ]
  },
  {
   "cell_type": "markdown",
   "id": "714078b2",
   "metadata": {},
   "source": [
    "3.\tWrite a Python program to Merging two Dictionaries?"
   ]
  },
  {
   "cell_type": "code",
   "execution_count": 10,
   "id": "a09980d3",
   "metadata": {},
   "outputs": [
    {
     "data": {
      "text/plain": [
       "{'Actress ': 'Jasmine Wiley',\n",
       " 'Cricketer': 'Nicholas Pooran',\n",
       " 'Basketball': 'Washington',\n",
       " 'Football': 'Zindane',\n",
       " 'Tennis ': 'Maria',\n",
       " 'Stadium  ': 'Amsterdam',\n",
       " 'Actress': 'Elizabeth'}"
      ]
     },
     "execution_count": 10,
     "metadata": {},
     "output_type": "execute_result"
    }
   ],
   "source": [
    "d1 = {'Actress ' : 'Jasmine Wiley',       \n",
    "    'Cricketer' : 'Nicholas Pooran',  \n",
    "    'Basketball': 'Jordan',  \n",
    "    'Football' : 'Zindane'  \n",
    "}    \n",
    "d2 = {'Tennis ' : 'Maria',  \n",
    "    'Stadium  ' : 'Amsterdam',  \n",
    "    'Basketball' : 'Washington',  \n",
    "    'Actress' : 'Elizabeth'}  \n",
    "d1.update(d2)\n",
    "d1"
   ]
  },
  {
   "cell_type": "markdown",
   "id": "84dc03e2",
   "metadata": {},
   "source": [
    "4.\tWrite a Python program to convert key-values list to flat dictionary?"
   ]
  },
  {
   "cell_type": "code",
   "execution_count": 29,
   "id": "a0b18a86",
   "metadata": {},
   "outputs": [
    {
     "data": {
      "text/plain": [
       "{1: 'Jan', 2: 'Feb', 3: 'March'}"
      ]
     },
     "execution_count": 29,
     "metadata": {},
     "output_type": "execute_result"
    }
   ],
   "source": [
    "d= {'month' : [1, 2, 3],\n",
    "    'name' : ['Jan', 'Feb', 'March']}\n",
    "result=dict(zip(d['month'],d['name']))\n",
    "result"
   ]
  },
  {
   "cell_type": "markdown",
   "id": "5c83e610",
   "metadata": {},
   "source": [
    "6.\tWurite a Python program to check order of character in string using OrderedDict()?"
   ]
  },
  {
   "cell_type": "code",
   "execution_count": 33,
   "id": "6436f173",
   "metadata": {
    "scrolled": true
   },
   "outputs": [
    {
     "data": {
      "text/plain": [
       "OrderedDict([('Apple', 'Iphone'),\n",
       "             ('Microsoft', 'Windows'),\n",
       "             ('Google', 'chrome'),\n",
       "             ('Space', 'Tesla')])"
      ]
     },
     "execution_count": 33,
     "metadata": {},
     "output_type": "execute_result"
    }
   ],
   "source": [
    "from collections import OrderedDict\n",
    "d= OrderedDict({'Apple':'Iphone','Microsoft':'Windows','Google':'chrome'})\n",
    "d1={'Space':'Tesla'}\n",
    "d.update(d1)\n",
    "d"
   ]
  },
  {
   "cell_type": "markdown",
   "id": "47fb43fc",
   "metadata": {},
   "source": [
    "7.\tWrite a Python program to sort Python Dictionaries by Key or Value?"
   ]
  },
  {
   "cell_type": "code",
   "execution_count": 50,
   "id": "8bdd63a1",
   "metadata": {},
   "outputs": [
    {
     "data": {
      "text/plain": [
       "{'o': [1, 2], 'i': [1, 2], 'a': [1, 2], 'u': [1, 2], 'e': [1, 2]}"
      ]
     },
     "execution_count": 50,
     "metadata": {},
     "output_type": "execute_result"
    }
   ],
   "source": [
    "keys = {'a', 'e', 'i', 'o', 'u' }\n",
    "values=[1,2]\n",
    "d={}\n",
    "v=d.fromkeys(keys,values)\n",
    "l=list(v)\n",
    "for i in range(len(l)):\n",
    "    l.sort()\n",
    "l\n",
    "d=dict(v)\n",
    "d\n",
    "\n"
   ]
  }
 ],
 "metadata": {
  "kernelspec": {
   "display_name": "Python 3 (ipykernel)",
   "language": "python",
   "name": "python3"
  },
  "language_info": {
   "codemirror_mode": {
    "name": "ipython",
    "version": 3
   },
   "file_extension": ".py",
   "mimetype": "text/x-python",
   "name": "python",
   "nbconvert_exporter": "python",
   "pygments_lexer": "ipython3",
   "version": "3.9.12"
  }
 },
 "nbformat": 4,
 "nbformat_minor": 5
}
