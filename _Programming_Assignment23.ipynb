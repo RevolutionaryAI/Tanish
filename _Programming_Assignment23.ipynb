{
 "cells": [
  {
   "cell_type": "raw",
   "id": "9e498782",
   "metadata": {},
   "source": [
    "1.Create a function that takes a number as an argument and returns True or False depending on whether the number is symmetrical or not. A number is symmetrical when it is the same as its reverse.\n",
    "Examples:\n",
    "is_symmetrical(7227) ➞ True\n",
    "is_symmetrical(12567) ➞ False\n",
    "is_symmetrical(44444444) ➞ True\n",
    "is_symmetrical(9939) ➞ False\n",
    "is_symmetrical(1112111) ➞ True"
   ]
  },
  {
   "cell_type": "code",
   "execution_count": 46,
   "id": "80873298",
   "metadata": {},
   "outputs": [
    {
     "name": "stdout",
     "output_type": "stream",
     "text": [
      "True\n",
      "False\n",
      "True\n",
      "False\n",
      "True\n"
     ]
    }
   ],
   "source": [
    "def is_symmetrical(x):\n",
    "     print(str(x)==str(x)[::-1])\n",
    "is_symmetrical(7227)\n",
    "is_symmetrical(12567) \n",
    "is_symmetrical(44444444)\n",
    "is_symmetrical(9939) \n",
    "is_symmetrical(1112111) "
   ]
  },
  {
   "cell_type": "markdown",
   "id": "a6f94e50",
   "metadata": {},
   "source": [
    "Question 2\n",
    "Given a string of numbers separated by a comma and space, return the product of the numbers.\n",
    "Examples\n",
    "multiply_nums(\"2, 3\") ➞ 6\n",
    "\n",
    "multiply_nums(\"1, 2, 3, 4\") ➞ 24\n",
    "\n",
    "multiply_nums(\"54, 75, 453, 0\") ➞ 0\n",
    "\n",
    "multiply_nums(\"10, -2\") ➞ -20\n"
   ]
  },
  {
   "cell_type": "code",
   "execution_count": 52,
   "id": "8c04e98d",
   "metadata": {},
   "outputs": [
    {
     "name": "stdout",
     "output_type": "stream",
     "text": [
      "6\n",
      "24\n",
      "0\n",
      "-20\n"
     ]
    }
   ],
   "source": [
    "def multiply_nums(a):\n",
    "    c=1\n",
    "    for i in a.split(','):\n",
    "        c*=int(i)\n",
    "    print(c)\n",
    "multiply_nums(\"2, 3\") \n",
    "\n",
    "multiply_nums(\"1, 2, 3, 4\")\n",
    "\n",
    "multiply_nums(\"54, 75, 453, 0\") \n",
    "\n",
    "multiply_nums(\"10, -2\") \n",
    "\n"
   ]
  },
  {
   "cell_type": "markdown",
   "id": "bf9f650a",
   "metadata": {},
   "source": [
    "Question 3\n",
    "Create a function that squares every digit of a number.\n",
    "Examples\n",
    "square_digits(9119) ➞ 811181\n",
    "\n",
    "square_digits(2483) ➞ 416649\n",
    "\n",
    "square_digits(3212) ➞ 9414\n",
    "Notes\n",
    "The function receives an integer and must return an integer.\n"
   ]
  },
  {
   "cell_type": "code",
   "execution_count": 43,
   "id": "6d493a07",
   "metadata": {},
   "outputs": [
    {
     "name": "stdout",
     "output_type": "stream",
     "text": [
      "8111814166499414"
     ]
    }
   ],
   "source": [
    "def square_digits(x):\n",
    "    a=list(str(x))\n",
    "    for i in a:\n",
    "        b=int(i)**2\n",
    "        print(b,end=\"\")\n",
    "square_digits(9119) \n",
    "square_digits(2483) \n",
    "square_digits(3212) \n"
   ]
  },
  {
   "cell_type": "markdown",
   "id": "27cbdab9",
   "metadata": {},
   "source": [
    "Question 4\n",
    "Create a function that sorts a list and removes all duplicate items from it.\n",
    "Examples\n",
    "setify([1, 3, 3, 5, 5]) ➞ [1, 3, 5]\n",
    "\n",
    "setify([4, 4, 4, 4]) ➞ [4]\n",
    "\n",
    "setify([5, 7, 8, 9, 10, 15]) ➞ [5, 7, 8, 9, 10, 15]\n",
    "\n",
    "setify([3, 3, 3, 2, 1]) ➞ [1, 2, 3]\n"
   ]
  },
  {
   "cell_type": "code",
   "execution_count": 45,
   "id": "2d1fedf3",
   "metadata": {},
   "outputs": [
    {
     "name": "stdout",
     "output_type": "stream",
     "text": [
      "[1, 3, 5]\n",
      "[4]\n",
      "[5, 7, 8, 9, 10, 15]\n",
      "[3, 2, 1]\n"
     ]
    }
   ],
   "source": [
    "def setify(x):\n",
    "    l=[]\n",
    "    for i in x:\n",
    "        if i not in l:\n",
    "            l.append(i)\n",
    "    print(l)\n",
    "setify([1, 3, 3, 5, 5])\n",
    "\n",
    "setify([4, 4, 4, 4]) \n",
    "\n",
    "setify([5, 7, 8, 9, 10, 15])\n",
    "\n",
    "setify([3, 3, 3, 2, 1]) \n"
   ]
  },
  {
   "cell_type": "markdown",
   "id": "65fc8b0a",
   "metadata": {},
   "source": [
    "5 .Create a function that returns the mean of all digits.\n",
    "Examples\n",
    "mean(42) ➞ 3\n",
    "\n",
    "mean(12345) ➞ 3\n",
    "\n",
    "mean(666) ➞ 6\n",
    "Notes\n",
    "•\tThe mean of all digits is the sum of digits / how many digits there are (e.g. mean of digits in 512 is (5+1+2)/3(number of digits) = 8/3=2).\n",
    "•\tThe mean will always be an integer.\n"
   ]
  },
  {
   "cell_type": "code",
   "execution_count": 90,
   "id": "7cbaf132",
   "metadata": {},
   "outputs": [
    {
     "name": "stdout",
     "output_type": "stream",
     "text": [
      "3.0\n",
      "3.0\n",
      "6.0\n"
     ]
    }
   ],
   "source": [
    "def mean(x):\n",
    "    a=[int(i) for i in str(x)]\n",
    "    res=sum(a)/len(str(x))\n",
    "    print(res)\n",
    "mean(42)\n",
    "mean(12345)\n",
    "mean(666)"
   ]
  }
 ],
 "metadata": {
  "kernelspec": {
   "display_name": "Python 3 (ipykernel)",
   "language": "python",
   "name": "python3"
  },
  "language_info": {
   "codemirror_mode": {
    "name": "ipython",
    "version": 3
   },
   "file_extension": ".py",
   "mimetype": "text/x-python",
   "name": "python",
   "nbconvert_exporter": "python",
   "pygments_lexer": "ipython3",
   "version": "3.9.12"
  }
 },
 "nbformat": 4,
 "nbformat_minor": 5
}
