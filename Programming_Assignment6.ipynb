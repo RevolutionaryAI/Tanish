{
 "cells": [
  {
   "cell_type": "markdown",
   "id": "f86e9af6",
   "metadata": {},
   "source": [
    " 1)Write a Python Program to Display Fibonacci Sequence Using Recursion?"
   ]
  },
  {
   "cell_type": "code",
   "execution_count": 23,
   "id": "68278873",
   "metadata": {},
   "outputs": [
    {
     "data": {
      "text/plain": [
       "55"
      ]
     },
     "execution_count": 23,
     "metadata": {},
     "output_type": "execute_result"
    }
   ],
   "source": [
    "def fibonacci(n):\n",
    "    a,b=0,1\n",
    "    for i in range(n):\n",
    "        a,b=b,a+b\n",
    "    return a+b\n",
    "fibonacci(8)"
   ]
  },
  {
   "cell_type": "markdown",
   "id": "66a0eab7",
   "metadata": {},
   "source": [
    "2.Write a Python Program to Find Factorial of Number Using Recursion?"
   ]
  },
  {
   "cell_type": "code",
   "execution_count": 26,
   "id": "92527cb7",
   "metadata": {},
   "outputs": [
    {
     "data": {
      "text/plain": [
       "120"
      ]
     },
     "execution_count": 26,
     "metadata": {},
     "output_type": "execute_result"
    }
   ],
   "source": [
    "import math\n",
    "def fact(n):\n",
    "    return math.factorial(n)\n",
    "fact(5)"
   ]
  },
  {
   "cell_type": "markdown",
   "id": "063a6d7c",
   "metadata": {},
   "source": [
    "3.Write a Python Program to calculate your Body Mass Index?"
   ]
  },
  {
   "cell_type": "code",
   "execution_count": 32,
   "id": "eababb97",
   "metadata": {},
   "outputs": [
    {
     "name": "stdout",
     "output_type": "stream",
     "text": [
      "Underweight\n"
     ]
    }
   ],
   "source": [
    "def body_mass_index(h,w):\n",
    "    bmi=float(w/h**2)\n",
    "    if bmi<18.5:\n",
    "        print(\"Underweight\")\n",
    "    elif bmi>18.5 and bmi<25:\n",
    "        print(\"normal weight\")\n",
    "    elif bmi>25 and bmi<30:\n",
    "        print(\"slighty overweight\")\n",
    "    elif bmi>30 and bmi<35:\n",
    "        print(\"obese\")\n",
    "    elif bmi>35:\n",
    "        print('clinically obese')\n",
    "    else:\n",
    "        print(\"Error\")\n",
    "body_mass_index(85,45)"
   ]
  },
  {
   "cell_type": "markdown",
   "id": "1a5da38f",
   "metadata": {},
   "source": [
    "4.Write a Python Program to calculate the natural logarithm of any number?"
   ]
  },
  {
   "cell_type": "code",
   "execution_count": 33,
   "id": "7220a3aa",
   "metadata": {},
   "outputs": [
    {
     "name": "stdout",
     "output_type": "stream",
     "text": [
      "Enter a number5\n",
      "1.6094379124341003\n"
     ]
    }
   ],
   "source": [
    "import math\n",
    "n=float(input(\"Enter a number\"))\n",
    "print(math.log(n))\n"
   ]
  },
  {
   "cell_type": "markdown",
   "id": "7fbe891a",
   "metadata": {},
   "source": [
    "5.Write a Python Program for cube sum of first n natural numbers?"
   ]
  },
  {
   "cell_type": "code",
   "execution_count": 35,
   "id": "389e4c8c",
   "metadata": {},
   "outputs": [
    {
     "name": "stdout",
     "output_type": "stream",
     "text": [
      "21952\n"
     ]
    }
   ],
   "source": [
    "def cube(n):\n",
    "    s,i=0,0\n",
    "    while i<n:\n",
    "        s+=i\n",
    "        i+=1\n",
    "    print(s**3)\n",
    "cube(8)"
   ]
  }
 ],
 "metadata": {
  "kernelspec": {
   "display_name": "Python 3 (ipykernel)",
   "language": "python",
   "name": "python3"
  },
  "language_info": {
   "codemirror_mode": {
    "name": "ipython",
    "version": 3
   },
   "file_extension": ".py",
   "mimetype": "text/x-python",
   "name": "python",
   "nbconvert_exporter": "python",
   "pygments_lexer": "ipython3",
   "version": "3.9.12"
  }
 },
 "nbformat": 4,
 "nbformat_minor": 5
}
