{
 "cells": [
  {
   "cell_type": "markdown",
   "id": "d5fbfe8a",
   "metadata": {},
   "source": [
    "1.\tWrite a Python Program to Find the Factorial of a Number?"
   ]
  },
  {
   "cell_type": "code",
   "execution_count": 7,
   "id": "9d4850a4",
   "metadata": {},
   "outputs": [
    {
     "data": {
      "text/plain": [
       "120"
      ]
     },
     "execution_count": 7,
     "metadata": {},
     "output_type": "execute_result"
    }
   ],
   "source": [
    "#Approach 1\n",
    "def factorial(n):\n",
    "    if n<=1:\n",
    "        return 1\n",
    "    else:\n",
    "        return n*factorial(n-1)\n",
    "factorial(5)\n",
    "\n",
    "#Approach2\n",
    "import math\n",
    "math.factorial(5)"
   ]
  },
  {
   "cell_type": "markdown",
   "id": "c0976a87",
   "metadata": {},
   "source": [
    "2.\tWrite a Python Program to Display the multiplication Table?"
   ]
  },
  {
   "cell_type": "code",
   "execution_count": 13,
   "id": "0c504dfd",
   "metadata": {},
   "outputs": [
    {
     "name": "stdout",
     "output_type": "stream",
     "text": [
      "10\n",
      "20\n",
      "30\n",
      "40\n",
      "50\n",
      "60\n",
      "70\n",
      "80\n",
      "90\n",
      "100\n"
     ]
    }
   ],
   "source": [
    "#Approach 1\n",
    "def multiply(n):\n",
    "    for i in range(1,n+1):\n",
    "        print(n*i)\n",
    "multiply(10)\n",
    "\n",
    "#Approach-2\n",
    "def multiply(n):\n",
    "    i=1\n",
    "    while i<=n:\n",
    "        s=n*i\n",
    "        print(s)\n",
    "        i+=1\n",
    "multiply(10)"
   ]
  },
  {
   "cell_type": "markdown",
   "id": "3af7aeed",
   "metadata": {},
   "source": [
    "3.\tWrite a Python Program to Print the Fibonacci sequence?"
   ]
  },
  {
   "cell_type": "code",
   "execution_count": 31,
   "id": "57c6bcc7",
   "metadata": {},
   "outputs": [
    {
     "data": {
      "text/plain": [
       "55"
      ]
     },
     "execution_count": 31,
     "metadata": {},
     "output_type": "execute_result"
    }
   ],
   "source": [
    "def fibonacci(n):\n",
    "    a,b=0,1\n",
    "    for i in range(n):\n",
    "        a,b=b,a+b\n",
    "    return a+b\n",
    "fibonacci(8)"
   ]
  },
  {
   "cell_type": "markdown",
   "id": "e960d5c1",
   "metadata": {},
   "source": [
    "4.\tWrite a Python Program to Check Armstrong Number?"
   ]
  },
  {
   "cell_type": "code",
   "execution_count": 41,
   "id": "4af211d2",
   "metadata": {},
   "outputs": [
    {
     "data": {
      "text/plain": [
       "'371 is a Armstrong Number'"
      ]
     },
     "execution_count": 41,
     "metadata": {},
     "output_type": "execute_result"
    }
   ],
   "source": [
    "def armstrong(n):\n",
    "    n1=list(map(int,str(n)))\n",
    "    n2=list(map(lambda x:x**3,n1))\n",
    "    if sum(n2)==n:\n",
    "        return \"{} is a Armstrong Number\".format(n)\n",
    "    else:\n",
    "        return \"{} is not a Armstrong Number\".format(n)\n",
    "armstrong(371)"
   ]
  },
  {
   "cell_type": "markdown",
   "id": "f9f915d8",
   "metadata": {},
   "source": [
    "5.\tWrite a Python Program to Find Armstrong Number in an Interval?"
   ]
  },
  {
   "cell_type": "code",
   "execution_count": 91,
   "id": "96c9d6a3",
   "metadata": {},
   "outputs": [
    {
     "ename": "SyntaxError",
     "evalue": "invalid syntax (3938918549.py, line 5)",
     "output_type": "error",
     "traceback": [
      "\u001b[1;36m  Input \u001b[1;32mIn [91]\u001b[1;36m\u001b[0m\n\u001b[1;33m    if sum(n2)==:\u001b[0m\n\u001b[1;37m                ^\u001b[0m\n\u001b[1;31mSyntaxError\u001b[0m\u001b[1;31m:\u001b[0m invalid syntax\n"
     ]
    }
   ],
   "source": [
    "def armstrong_interval(a,b):\n",
    "    for i in range(a,b+1):\n",
    "        n1=list(map(int,str(i)))\n",
    "        n2=list(map(lambda x:x**3,n1))\n",
    "        if sum(n2)==:\n",
    "            return \"{} is a Armstrong Number\".format(i)\n",
    "        else:\n",
    "            return \"{} is not a Armstrong Number\".format(i)\n",
    "print(armstrong_interval(100,2000))"
   ]
  },
  {
   "cell_type": "markdown",
   "id": "6b2322a3",
   "metadata": {},
   "source": [
    "6.\tWrite a Python Program to Find the Sum of Natural Numbers?"
   ]
  },
  {
   "cell_type": "code",
   "execution_count": 92,
   "id": "32976671",
   "metadata": {},
   "outputs": [
    {
     "data": {
      "text/plain": [
       "5050"
      ]
     },
     "execution_count": 92,
     "metadata": {},
     "output_type": "execute_result"
    }
   ],
   "source": [
    "def addition(x):\n",
    "    s=0\n",
    "    for i in range(1,x+1):\n",
    "        s+=i\n",
    "    return s\n",
    "addition(100)\n",
    "        "
   ]
  }
 ],
 "metadata": {
  "kernelspec": {
   "display_name": "Python 3 (ipykernel)",
   "language": "python",
   "name": "python3"
  },
  "language_info": {
   "codemirror_mode": {
    "name": "ipython",
    "version": 3
   },
   "file_extension": ".py",
   "mimetype": "text/x-python",
   "name": "python",
   "nbconvert_exporter": "python",
   "pygments_lexer": "ipython3",
   "version": "3.9.12"
  }
 },
 "nbformat": 4,
 "nbformat_minor": 5
}
