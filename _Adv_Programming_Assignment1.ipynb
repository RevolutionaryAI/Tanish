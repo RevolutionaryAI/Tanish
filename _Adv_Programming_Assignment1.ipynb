{
 "cells": [
  {
   "cell_type": "markdown",
   "id": "36f511b7",
   "metadata": {},
   "source": [
    "1. Write a function that takes a list of lists and returns the value of all of the symbols in it, where each symbol adds or takes something from the total score. Symbol values:\n",
    "\n",
    "#= 5\n",
    "\n",
    "O = 3\n",
    "\n",
    "X = 1\n",
    "\n",
    "! = -1\n",
    "\n",
    "!! = -3\n",
    "\n",
    "!!! = -5\n",
    "\n",
    "A list of lists containing 2 #s, a O, and a !!! would equal (0 + 5 + 5 + 3 - 5) 8.\n",
    "\n",
    "If the final score is negative, return 0 (e.g. 3 #s, 3 !!s, 2 !!!s and a X would be (0 + 5 + 5 + 5 - 3 - 3 - 3 - 5 - 5 + 1) -3, so return 0.\n",
    "\n",
    "**Examples**\n",
    "\n",
    "\n",
    "check_score([\n",
    "  [\"#\", \"!\"],\n",
    "  [\"!!\", \"X\"]\n",
    "]) ➞ 2\n",
    "\n",
    "\n",
    "check_score([\n",
    "  [\"!!!\", \"O\", \"!\"],\n",
    "  [\"X\", \"#\", \"!!!\"],\n",
    "  [\"!!\", \"X\", \"O\"]\n",
    "]) ➞ 0\n"
   ]
  },
  {
   "cell_type": "code",
   "execution_count": 72,
   "id": "d909d31d",
   "metadata": {},
   "outputs": [
    {
     "name": "stdout",
     "output_type": "stream",
     "text": [
      "2\n",
      "0\n"
     ]
    }
   ],
   "source": [
    "\n",
    "def check_score(x):\n",
    "    symbol = {'#' : 5, 'O' : 3, 'X' : 1, '!' : -1, '!!' : -3, '!!!' : -5}\n",
    "    a=0\n",
    "    for i in x:\n",
    "        for j in i:\n",
    "            a+=symbol[j]\n",
    "    b=0 if a<0 else a\n",
    "    print(b)\n",
    "check_score([ [\"#\", \"!\"], [\"!!\", \"X\"] ])\n",
    "check_score([ [\"!!!\", \"O\", \"!\"], [\"X\", \"#\", \"!!!\"], [\"!!\", \"X\", \"O\"] ])"
   ]
  },
  {
   "cell_type": "markdown",
   "id": "0826948b",
   "metadata": {},
   "source": [
    "2. Create a function that takes a variable number of arguments, each argument representing the number of items in a group, and returns the number of permutations (combinations) of items that you could get by taking one item from each group.\n",
    "\n",
    "**Examples**\n",
    "\n",
    "combinations(2, 3) ➞ 6\n",
    "\n",
    "combinations(3, 7, 4) ➞ 84\n",
    "\n",
    "combinations(2, 3, 4, 5) ➞ 120\n",
    "\n",
    "    \n"
   ]
  },
  {
   "cell_type": "code",
   "execution_count": 85,
   "id": "4b75f5c6",
   "metadata": {},
   "outputs": [
    {
     "name": "stdout",
     "output_type": "stream",
     "text": [
      "6\n",
      "84\n",
      "120\n"
     ]
    }
   ],
   "source": [
    "def combinations(*group):\n",
    "    single=1\n",
    "    for i in group:\n",
    "        single*=i\n",
    "    print(single)\n",
    "combinations(2,3)\n",
    "combinations(3, 7, 4) \n",
    "\n",
    "combinations(2, 3, 4, 5) "
   ]
  },
  {
   "cell_type": "markdown",
   "id": "c77a8091",
   "metadata": {},
   "source": [
    "3.Create a function that takes a string as an argument and returns the Morse code equivalent.\n",
    "\n",
    "Examples:\n",
    "\n",
    "encode_morse(\"EDABBIT CHALLENGE\") ➞ \". -.. .- -... -... .. - -.-. .... .- .-.. .-... -. --. .\"\n",
    "\n",
    "encode_morse(\"HELP ME !\") ➞ \".... . .-.. .--. -- . -.-.--\"\n",
    "\n",
    "\n",
    "This dictionary can be used for coding:\n",
    "\n",
    "    char_to_dots = {\n",
    "'A': '.-', 'B': '-...', 'C': '-.-.', 'D': '-..', 'E': '.', 'F': '..-.',\n",
    "'G': '--.', 'H': '....', 'I': '..', 'J': '.---', 'K': '-.-', 'L': '.-..',\n",
    "'M': '--', 'N': '-.', 'O': '---', 'P': '.--.', 'Q': '--.-', 'R': '.-.',\n",
    "'S': '...', 'T': '-', 'U': '..-', 'V': '...-', 'W': '.--', 'X': '-..-',\n",
    "'Y': '-.--', 'Z': '--..', ' ': ' ', '0': '-----',\n",
    "'1': '.----', '2': '..---', '3': '...--', '4': '....-', '5': '.....',\n",
    "'6': '-....', '7': '--...', '8': '---..', '9': '----.',\n",
    "'&': '.-...', \"'\": '.----.', '@': '.--.-.', ')': '-.--.-', '(': '-.--.',\n",
    "':': '---...', ',': '--..--', '=': '-...-', '!': '-.-.--', '.': '.-.-.-',\n",
    "'-': '-....-', '+': '.-.-.', '\"': '.-..-.', '?': '..--..', '/': '-..-.'\n",
    "}"
   ]
  },
  {
   "cell_type": "code",
   "execution_count": 100,
   "id": "ce112c25",
   "metadata": {},
   "outputs": [
    {
     "name": "stdout",
     "output_type": "stream",
     "text": [
      ".-...--...-.....- -.-......-.-...-...-.--..\n",
      "......-...--. --. -.-.--\n"
     ]
    }
   ],
   "source": [
    "def encode_morse(x):\n",
    "    char_to_dots = {'A': '.-', 'B': '-...', 'C': '-.-.', 'D': '-..', 'E': '.', 'F': '..-.', 'G': '--.', 'H': '....', 'I': '..', 'J': '.---', 'K': '-.-', 'L': '.-..', 'M': '--', 'N': '-.', 'O': '---', 'P': '.--.', 'Q': '--.-', 'R': '.-.', 'S': '...', 'T': '-', 'U': '..-', 'V': '...-', 'W': '.--', 'X': '-..-', 'Y': '-.--', 'Z': '--..', ' ': ' ', '0': '-----', '1': '.----', '2': '..---', '3': '...--', '4': '....-', '5': '.....', '6': '-....', '7': '--...', '8': '---..', '9': '----.', '&': '.-...', \"'\": '.----.', '@': '.--.-.', ')': '-.--.-', '(': '-.--.', ':': '---...', ',': '--..--', '=': '-...-', '!': '-.-.--', '.': '.-.-.-', '-': '-....-', '+': '.-.-.', '\"': '.-..-.', '?': '..--..', '/': '-..-.' }\n",
    "    l=[]   \n",
    "    for i in x:\n",
    "        l.append(char_to_dots[i])\n",
    "    print(\"\".join(l))\n",
    "    \n",
    "encode_morse(\"EDABBIT CHALLENGE\")     \n",
    "encode_morse(\"HELP ME !\")   "
   ]
  },
  {
   "cell_type": "markdown",
   "id": "321305c1",
   "metadata": {},
   "source": [
    "4.Write a function that takes a number and returns True if it's a prime; False otherwise. The number can be 2^64-1 (2 to the power of 63, not XOR). With the standard technique it would be O(2^64-1), which is much too large for the 10 second time limit.\n",
    "Examples:\n",
    "\n",
    "prime(7) ➞ True\n",
    "\n",
    "prime(56963) ➞ True\n",
    "\n",
    "prime(5151512515524) ➞ False"
   ]
  },
  {
   "cell_type": "code",
   "execution_count": 202,
   "id": "1feb6759",
   "metadata": {},
   "outputs": [
    {
     "name": "stdout",
     "output_type": "stream",
     "text": [
      "True\n",
      "True\n",
      "False\n"
     ]
    }
   ],
   "source": [
    "def prime(x):\n",
    "    if x==1:\n",
    "        return True\n",
    "    elif x==2:\n",
    "        return False\n",
    "    else:\n",
    "        for i in range(3,x+1):\n",
    "            if x%i==0:\n",
    "                return False\n",
    "            return True\n",
    "print(prime(7))\n",
    "print(prime(56963))\n",
    "print(prime(5151512515524))\n"
   ]
  },
  {
   "cell_type": "markdown",
   "id": "13990693",
   "metadata": {},
   "source": [
    "\n",
    "5.  Create a function that converts a word to a bitstring and then to a boolean list based on the following criteria:\n",
    "\n",
    "    1. Locate the position of the letter in the English alphabet (from 1 to 26).\n",
    "    2. Odd positions will be represented as 1 and 0 otherwise.\n",
    "    3. Convert the represented positions to boolean values, 1 for True and 0 for False.\n",
    "    4. Store the conversions into an array.\n",
    "\n",
    " Examples\n",
    "\n",
    "to_boolean_list(\"deep\") ➞ [False, True, True, False]\n",
    "#deep converts to 0110\n",
    "#d is the 4th alphabet - 0\n",
    "#e is the 5th alphabet - 1\n",
    "#e is the 5th alphabet - 1\n",
    "#p is the 16th alphabet - 0\n",
    "\n",
    "to_boolean_list(\"loves\") ➞ [False, True, False, True, True]\n",
    "\n",
    "to_boolean_list(\"tesh\") ➞ [False, True, True, False]\n"
   ]
  },
  {
   "cell_type": "code",
   "execution_count": 197,
   "id": "baad34f2",
   "metadata": {},
   "outputs": [
    {
     "name": "stdout",
     "output_type": "stream",
     "text": [
      "[False, True, True, False]\n",
      "[False, True, False, True, True]\n",
      "[False, True, True, False]\n"
     ]
    }
   ],
   "source": [
    "def to_boolean_list(x):\n",
    "    alphabet = { \"a\":1,'b':0,'c':1,\"d\":0,\"e\":1,\"f\":0,\"g\":1,\"h\":0,\"i\":1,\"j\":0,\"k\":1,\"l\":0,'m':1,\"n\":0,\"o\":1,\"p\":0,\"q\":1,\"r\":0,\"s\":1,\"t\":0,\"u\":1,\"v\":0,\"w\":1,\"x\":0,\"y\":1,\"z\":0 }\n",
    "    l=[]\n",
    "    for i in x:\n",
    "        for j in alphabet.keys():\n",
    "            if i==j:\n",
    "                x=alphabet.get(j)\n",
    "                l.append(x)\n",
    "    l1=[]\n",
    "    for i in l:\n",
    "        if i==1:\n",
    "            l1.append(True)\n",
    "        else:\n",
    "    \n",
    "            l1.append(False)\n",
    "    print(l1)\n",
    "to_boolean_list(\"deep\")\n",
    "to_boolean_list(\"loves\")\n",
    "to_boolean_list(\"tesh\")"
   ]
  },
  {
   "cell_type": "code",
   "execution_count": null,
   "id": "cb051078",
   "metadata": {},
   "outputs": [],
   "source": []
  }
 ],
 "metadata": {
  "kernelspec": {
   "display_name": "Python 3 (ipykernel)",
   "language": "python",
   "name": "python3"
  },
  "language_info": {
   "codemirror_mode": {
    "name": "ipython",
    "version": 3
   },
   "file_extension": ".py",
   "mimetype": "text/x-python",
   "name": "python",
   "nbconvert_exporter": "python",
   "pygments_lexer": "ipython3",
   "version": "3.9.12"
  }
 },
 "nbformat": 4,
 "nbformat_minor": 5
}
