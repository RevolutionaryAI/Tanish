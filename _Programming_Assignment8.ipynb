{
 "cells": [
  {
   "cell_type": "markdown",
   "id": "f5939aa3",
   "metadata": {},
   "source": [
    "1.\tWrite a Python Program to Add Two Matrices?"
   ]
  },
  {
   "cell_type": "code",
   "execution_count": 13,
   "id": "abdfcd22",
   "metadata": {},
   "outputs": [
    {
     "name": "stdout",
     "output_type": "stream",
     "text": [
      "[7, 11, 0]\n",
      "[9, 16, 0]\n"
     ]
    }
   ],
   "source": [
    "l=[[4,5,6],[4,8,9]]\n",
    "l2=[[3,4,5],[7,8,9]]\n",
    "add=[[0,0,0],[0,0,0]]\n",
    "\n",
    "#Approach 1\n",
    "import numpy as np\n",
    "a=np.array([[4,5,6],[4,8,9]])\n",
    "b=np.array([[3,4,5],[7,8,9]])\n",
    "a+b\n",
    "\n",
    "#Approach-2\n",
    "for i in range(len(a)):\n",
    "    for j in range(len(b)):\n",
    "        add[j][i]=a[i][j]+b[i][j]\n",
    "for c in add:\n",
    "    print(c)"
   ]
  },
  {
   "cell_type": "markdown",
   "id": "26244848",
   "metadata": {},
   "source": [
    "2.\tWrite a Python Program to Multiply Two Matrices?"
   ]
  },
  {
   "cell_type": "code",
   "execution_count": 16,
   "id": "1ab80135",
   "metadata": {
    "scrolled": true
   },
   "outputs": [
    {
     "name": "stdout",
     "output_type": "stream",
     "text": [
      "[12, 20, 0]\n",
      "[28, 64, 0]\n"
     ]
    }
   ],
   "source": [
    "l=[[4,5,6],[4,8,9]]\n",
    "l2=[[3,4,5],[7,8,9]]\n",
    "add=[[0,0,0],[0,0,0]]\n",
    "i=0\n",
    "while i<len(l):\n",
    "    j=0\n",
    "    while j<len(l2):\n",
    "        add[i][j]=l[i][j]*l2[i][j]\n",
    "        j+=1\n",
    "    i+=1\n",
    "for t in add:\n",
    "    print(t)\n"
   ]
  },
  {
   "cell_type": "markdown",
   "id": "8913e8e5",
   "metadata": {},
   "source": [
    "3.\tWrite a Python Program to Transpose a Matrix?"
   ]
  },
  {
   "cell_type": "code",
   "execution_count": 22,
   "id": "2505e890",
   "metadata": {},
   "outputs": [
    {
     "data": {
      "text/plain": [
       "array([[1, 1, 1],\n",
       "       [2, 2, 3],\n",
       "       [6, 4, 9]])"
      ]
     },
     "execution_count": 22,
     "metadata": {},
     "output_type": "execute_result"
    }
   ],
   "source": [
    "a=np.array([[1,2,6],\n",
    "   [1,2,4],\n",
    "   [1,3,9] ])\n",
    "a.transpose()\n"
   ]
  },
  {
   "cell_type": "markdown",
   "id": "2cc42df9",
   "metadata": {},
   "source": [
    "4.\tWrite a Python Program to Sort Words in Alphabetic Order?"
   ]
  },
  {
   "cell_type": "code",
   "execution_count": 36,
   "id": "d4e80a02",
   "metadata": {},
   "outputs": [
    {
     "name": "stdout",
     "output_type": "stream",
     "text": [
      "is-my-name\n"
     ]
    }
   ],
   "source": [
    "def sorting(x):\n",
    "    a=x.split()\n",
    "    a.sort()\n",
    "    print(\"-\".join(a))\n",
    "sorting(\"my name is\")\n",
    "\n",
    "    "
   ]
  },
  {
   "cell_type": "markdown",
   "id": "f1e5433c",
   "metadata": {},
   "source": [
    "5.Write a Python Program to Remove Punctuation From a String?"
   ]
  },
  {
   "cell_type": "code",
   "execution_count": null,
   "id": "7d3cb21a",
   "metadata": {},
   "outputs": [
    {
     "name": "stdout",
     "output_type": "stream",
     "text": [
      "\"HI!\"\n",
      "\"HI"
     ]
    }
   ],
   "source": [
    "punct=\"!@#$%^&*(){}[],./?\"\n",
    "st=input(\"\")\n",
    "#Approach-1\n",
    "i=0\n",
    "res=len(st)-1\n",
    "s=\"\"\n",
    "while i<=res:\n",
    "    if st[i] not in punct:\n",
    "        print(st[i],end=\"\")\n",
    "        i+=1\n",
    "#Approach-2\n",
    "a=''\n",
    "for i in st:\n",
    "    if i not in punct:\n",
    "        a+=i\n",
    "print(a)\n"
   ]
  }
 ],
 "metadata": {
  "kernelspec": {
   "display_name": "Python 3 (ipykernel)",
   "language": "python",
   "name": "python3"
  },
  "language_info": {
   "codemirror_mode": {
    "name": "ipython",
    "version": 3
   },
   "file_extension": ".py",
   "mimetype": "text/x-python",
   "name": "python",
   "nbconvert_exporter": "python",
   "pygments_lexer": "ipython3",
   "version": "3.9.12"
  }
 },
 "nbformat": 4,
 "nbformat_minor": 5
}
